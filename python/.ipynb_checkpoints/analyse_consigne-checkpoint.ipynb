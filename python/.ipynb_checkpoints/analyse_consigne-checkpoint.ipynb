{
 "cells": [
  {
   "cell_type": "markdown",
   "id": "32ac150b-b9ca-4729-b359-610ced354586",
   "metadata": {},
   "source": [
    "# Chargement des données "
   ]
  },
  {
   "cell_type": "code",
   "execution_count": 1,
   "id": "531fb7a4-2ced-4154-9a9f-0fe4f87877d0",
   "metadata": {},
   "outputs": [],
   "source": [
    "from pyhive import hive\n",
    "import pandas as pd"
   ]
  },
  {
   "cell_type": "code",
   "execution_count": 2,
   "id": "a6a2adff-26a0-469b-b26b-34df54cbd929",
   "metadata": {},
   "outputs": [],
   "source": [
    "hive_host = 'localhost'\n",
    "hive_port = 10000\n",
    "hive_username = ' ' \n",
    "hive_password = ' '"
   ]
  },
  {
   "cell_type": "code",
   "execution_count": 3,
   "id": "b03b2b7c-3121-460e-bad2-60b337e5af42",
   "metadata": {},
   "outputs": [
    {
     "name": "stdout",
     "output_type": "stream",
     "text": [
      "Connecté à Hive avec succès\n"
     ]
    }
   ],
   "source": [
    "try:\n",
    "    # Établir une connexion avec authentification LDAP\n",
    "    conn = hive.Connection(\n",
    "        host=hive_host,\n",
    "        port=hive_port,\n",
    "        username=hive_username,\n",
    "        password=hive_password,\n",
    "        auth='LDAP'  \n",
    "    )\n",
    "    print(\"Connecté à Hive avec succès\")\n",
    "except Exception as e:\n",
    "    print(f\"Erreur lors de la connexion à Hive: {e}\")"
   ]
  },
  {
   "cell_type": "code",
   "execution_count": 4,
   "id": "0996daea-f140-4418-9640-d01448b187ef",
   "metadata": {},
   "outputs": [],
   "source": [
    "# Créer un curseur\n",
    "cursor=conn.cursor()"
   ]
  },
  {
   "cell_type": "code",
   "execution_count": 5,
   "id": "9b591cf3-76e4-46d4-8d24-6540d78b19bc",
   "metadata": {},
   "outputs": [],
   "source": [
    "def findAll(table) :\n",
    "    # Exécuter une requête pour récupérer les données de la table \"catalogue\"\n",
    "    query = \"SELECT * FROM \" + table\n",
    "    cursor.execute(query)\n",
    "\n",
    "    # Charger les résultats dans un DataFrame Pandas\n",
    "    data = cursor.fetchall()\n",
    "\n",
    "    # Récupérer les noms des colonnes\n",
    "    columns = [desc[0] for desc in cursor.description] \n",
    "    df = pd.DataFrame(data, columns=columns)\n",
    "    print(\"Select all \", table)\n",
    "    \n",
    "    # Afficher les premières lignes du DataFrame\n",
    "    print(df.head())\n",
    "\n",
    "    return df"
   ]
  },
  {
   "cell_type": "code",
   "execution_count": 6,
   "id": "18d5751a-1936-4dbf-8099-3fc5c551c36a",
   "metadata": {},
   "outputs": [
    {
     "name": "stdout",
     "output_type": "stream",
     "text": [
      "Select all  immatriculation_ext\n",
      "  immatriculation_ext.immatriculation immatriculation_ext.marque  \\\n",
      "0                          3176 TS 67                    Renault   \n",
      "1                          3721 QS 49                      Volvo   \n",
      "2                          9099 UV 26                 Volkswagen   \n",
      "3                          3563 LA 55                    Peugeot   \n",
      "4                          6963 AX 34                       Audi   \n",
      "\n",
      "  immatriculation_ext.nom  immatriculation_ext.puissance  \\\n",
      "0             Laguna 2.0T                            170   \n",
      "1                  S80 T6                            272   \n",
      "2            Golf 2.0 FSI                            150   \n",
      "3                1007 1.4                             75   \n",
      "4                  A2 1.4                             75   \n",
      "\n",
      "  immatriculation_ext.longueur  immatriculation_ext.nbplaces  \\\n",
      "0                       longue                             5   \n",
      "1                  très longue                             5   \n",
      "2                      moyenne                             5   \n",
      "3                       courte                             5   \n",
      "4                       courte                             5   \n",
      "\n",
      "   immatriculation_ext.nbportes immatriculation_ext.couleur  \\\n",
      "0                             5                       blanc   \n",
      "1                             5                        noir   \n",
      "2                             5                        gris   \n",
      "3                             5                       blanc   \n",
      "4                             5                        gris   \n",
      "\n",
      "   immatriculation_ext.occasion  immatriculation_ext.prix  \n",
      "0                         False                     27300  \n",
      "1                         False                     50500  \n",
      "2                          True                     16029  \n",
      "3                          True                      9625  \n",
      "4                         False                     18310  \n",
      "Select all  marketing_ext\n",
      "   marketing_ext.id  marketing_ext.age marketing_ext.sexe  marketing_ext.taux  \\\n",
      "0                 4                 26                  F                 420   \n",
      "1                 5                 80                  M                 530   \n",
      "2                 6                 27                  F                 153   \n",
      "3                10                 22                  M                 154   \n",
      "4                17                 58                  M                1192   \n",
      "\n",
      "  marketing_ext.situationfamiliale  marketing_ext.nbenfantsacharge  \\\n",
      "0                        En Couple                               3   \n",
      "1                        En Couple                               3   \n",
      "2                        En Couple                               2   \n",
      "3                        En Couple                               1   \n",
      "4                        En Couple                               0   \n",
      "\n",
      "   marketing_ext.deuxiemevoiture  \n",
      "0                           True  \n",
      "1                          False  \n",
      "2                          False  \n",
      "3                          False  \n",
      "4                          False  \n",
      "Select all  clients_ext\n",
      "   clients_ext.id  clients_ext.age clients_ext.sexe  clients_ext.taux  \\\n",
      "0              24               58                M              1390   \n",
      "1              30               80                M               181   \n",
      "2              47               52                M              1001   \n",
      "3              53               70                F               711   \n",
      "4              65               18                M               503   \n",
      "\n",
      "  clients_ext.situationfamiliale  clients_ext.nbenfantsacharge  \\\n",
      "0                    Célibataire                             0   \n",
      "1                      En Couple                             2   \n",
      "2                    Célibataire                             0   \n",
      "3                      En Couple                             1   \n",
      "4                          Seule                             2   \n",
      "\n",
      "   clients_ext.deuxiemevoiture clients_ext.immatriculation  \n",
      "0                        False                  5928 HT 97  \n",
      "1                        False                  1423 TX 42  \n",
      "2                        False                  1179 KY 62  \n",
      "3                         True                  2815 PE 86  \n",
      "4                        False                  2095 TQ 54  \n"
     ]
    }
   ],
   "source": [
    "dfImmatriculation = findAll(\"immatriculation_ext\")\n",
    "dfMarketing = findAll(\"marketing_ext\")\n",
    "dfClients = findAll(\"clients_ext\")"
   ]
  },
  {
   "cell_type": "markdown",
   "id": "67182aa2-282f-4fdf-bd2f-55c51338493a",
   "metadata": {},
   "source": [
    "# 1. ANALYSE EXPLORATOIRE DES DONNEES\n",
    "## Statistiques descriptives / vérification des valeurs"
   ]
  },
  {
   "cell_type": "code",
   "execution_count": 8,
   "id": "6470580d-6a0c-4d75-8a9d-dd6f0db65be2",
   "metadata": {},
   "outputs": [],
   "source": [
    "def descriptionDataframe(table, df) :\n",
    "    # Affichage des statistiques descriptives\n",
    "    print(\"Affichage des statistiques descriptives de \", table)\n",
    "    print(df.describe())\n",
    "\n",
    "    # Affichage des types de données et des valeurs manquantes\n",
    "    print(\"Affichage des types de données et des valeurs manquantes  de \", table)\n",
    "    print(df.info())\n",
    "\n",
    "    # Vérification des valeurs manquantes\n",
    "    print(\"Vérification des valeurs manquantes  de \", table)\n",
    "    print(df.isnull().sum())\n",
    "    \n",
    "    # Vérification des doublons\n",
    "    print(\"Vérification des doublons  de \", table)\n",
    "    duplicates = df.duplicated()\n",
    "    print(f\"Nombre de doublons : {duplicates.sum()}\")"
   ]
  },
  {
   "cell_type": "code",
   "execution_count": 9,
   "id": "f94dbab4-3a72-42a5-9838-7676be08adf5",
   "metadata": {},
   "outputs": [
    {
     "name": "stdout",
     "output_type": "stream",
     "text": [
      "Affichage des statistiques descriptives de  Immatriculation\n",
      "       immatriculation_ext.puissance  immatriculation_ext.nbplaces  \\\n",
      "count                   2.000000e+06                     2000000.0   \n",
      "mean                    1.990422e+02                           5.0   \n",
      "std                     1.371486e+02                           0.0   \n",
      "min                     5.500000e+01                           5.0   \n",
      "25%                     7.500000e+01                           5.0   \n",
      "50%                     1.500000e+02                           5.0   \n",
      "75%                     2.450000e+02                           5.0   \n",
      "max                     5.070000e+02                           5.0   \n",
      "\n",
      "       immatriculation_ext.nbportes  immatriculation_ext.prix  \n",
      "count                  2.000000e+06              2.000000e+06  \n",
      "mean                   4.868432e+00              3.578257e+04  \n",
      "std                    4.958084e-01              2.577564e+04  \n",
      "min                    3.000000e+00              7.500000e+03  \n",
      "25%                    5.000000e+00              1.831000e+04  \n",
      "50%                    5.000000e+00              2.597000e+04  \n",
      "75%                    5.000000e+00              4.920000e+04  \n",
      "max                    5.000000e+00              1.013000e+05  \n",
      "Affichage des types de données et des valeurs manquantes  de  Immatriculation\n",
      "<class 'pandas.core.frame.DataFrame'>\n",
      "RangeIndex: 2000000 entries, 0 to 1999999\n",
      "Data columns (total 10 columns):\n",
      " #   Column                               Dtype \n",
      "---  ------                               ----- \n",
      " 0   immatriculation_ext.immatriculation  object\n",
      " 1   immatriculation_ext.marque           object\n",
      " 2   immatriculation_ext.nom              object\n",
      " 3   immatriculation_ext.puissance        int64 \n",
      " 4   immatriculation_ext.longueur         object\n",
      " 5   immatriculation_ext.nbplaces         int64 \n",
      " 6   immatriculation_ext.nbportes         int64 \n",
      " 7   immatriculation_ext.couleur          object\n",
      " 8   immatriculation_ext.occasion         bool  \n",
      " 9   immatriculation_ext.prix             int64 \n",
      "dtypes: bool(1), int64(4), object(5)\n",
      "memory usage: 139.2+ MB\n",
      "None\n",
      "Vérification des valeurs manquantes  de  Immatriculation\n",
      "immatriculation_ext.immatriculation    0\n",
      "immatriculation_ext.marque             0\n",
      "immatriculation_ext.nom                0\n",
      "immatriculation_ext.puissance          0\n",
      "immatriculation_ext.longueur           0\n",
      "immatriculation_ext.nbplaces           0\n",
      "immatriculation_ext.nbportes           0\n",
      "immatriculation_ext.couleur            0\n",
      "immatriculation_ext.occasion           0\n",
      "immatriculation_ext.prix               0\n",
      "dtype: int64\n",
      "Vérification des doublons  de  Immatriculation\n",
      "Nombre de doublons : 24\n"
     ]
    }
   ],
   "source": [
    "descriptionDataframe(\"Immatriculation\",dfImmatriculation)"
   ]
  },
  {
   "cell_type": "code",
   "execution_count": 10,
   "id": "70b38548-b424-4a9c-8600-7f2d1d6ca77f",
   "metadata": {},
   "outputs": [
    {
     "name": "stdout",
     "output_type": "stream",
     "text": [
      "Nombre de doublons après suppression : 0\n"
     ]
    }
   ],
   "source": [
    "dfImmatriculation.drop_duplicates(inplace=True)\n",
    "print(f\"Nombre de doublons après suppression : {dfImmatriculation.duplicated().sum()}\")"
   ]
  },
  {
   "cell_type": "code",
   "execution_count": 14,
   "id": "b2c81262-dc70-420f-a7a6-d6221897ba2e",
   "metadata": {},
   "outputs": [
    {
     "name": "stdout",
     "output_type": "stream",
     "text": [
      "Affichage des statistiques descriptives de  Clients\n",
      "       clients_ext.id  clients_ext.age  clients_ext.taux  \\\n",
      "count   100000.000000    100000.000000     100000.000000   \n",
      "mean     50000.500000        43.547190        607.934460   \n",
      "std      28867.657797        18.460788        337.523089   \n",
      "min          1.000000        -1.000000         -1.000000   \n",
      "25%      25000.750000        27.000000        420.000000   \n",
      "50%      50000.500000        41.000000        521.000000   \n",
      "75%      75000.250000        56.000000        830.000000   \n",
      "max     100000.000000        84.000000       1399.000000   \n",
      "\n",
      "       clients_ext.nbenfantsacharge  \n",
      "count                 100000.000000  \n",
      "mean                       1.249220  \n",
      "std                        1.390413  \n",
      "min                       -1.000000  \n",
      "25%                        0.000000  \n",
      "50%                        1.000000  \n",
      "75%                        2.000000  \n",
      "max                        4.000000  \n",
      "Affichage des types de données et des valeurs manquantes  de  Clients\n",
      "<class 'pandas.core.frame.DataFrame'>\n",
      "RangeIndex: 100000 entries, 0 to 99999\n",
      "Data columns (total 8 columns):\n",
      " #   Column                          Non-Null Count   Dtype \n",
      "---  ------                          --------------   ----- \n",
      " 0   clients_ext.id                  100000 non-null  int64 \n",
      " 1   clients_ext.age                 100000 non-null  int64 \n",
      " 2   clients_ext.sexe                100000 non-null  object\n",
      " 3   clients_ext.taux                100000 non-null  int64 \n",
      " 4   clients_ext.situationfamiliale  100000 non-null  object\n",
      " 5   clients_ext.nbenfantsacharge    100000 non-null  int64 \n",
      " 6   clients_ext.deuxiemevoiture     100000 non-null  bool  \n",
      " 7   clients_ext.immatriculation     100000 non-null  object\n",
      "dtypes: bool(1), int64(4), object(3)\n",
      "memory usage: 5.4+ MB\n",
      "None\n",
      "Vérification des valeurs manquantes  de  Clients\n",
      "clients_ext.id                    0\n",
      "clients_ext.age                   0\n",
      "clients_ext.sexe                  0\n",
      "clients_ext.taux                  0\n",
      "clients_ext.situationfamiliale    0\n",
      "clients_ext.nbenfantsacharge      0\n",
      "clients_ext.deuxiemevoiture       0\n",
      "clients_ext.immatriculation       0\n",
      "dtype: int64\n",
      "Vérification des doublons  de  Clients\n",
      "Nombre de doublons : 0\n"
     ]
    }
   ],
   "source": [
    "descriptionDataframe(\"Clients\",dfClients)"
   ]
  },
  {
   "cell_type": "code",
   "execution_count": 13,
   "id": "d5391289-0f63-40e4-bad3-725728efba72",
   "metadata": {},
   "outputs": [
    {
     "name": "stdout",
     "output_type": "stream",
     "text": [
      "Affichage des statistiques descriptives de  Marketing\n",
      "       marketing_ext.id  marketing_ext.age  marketing_ext.taux  \\\n",
      "count          20.00000          20.000000           20.000000   \n",
      "mean           10.50000          45.000000          582.400000   \n",
      "std             5.91608          19.246326          345.656111   \n",
      "min             1.00000          19.000000          153.000000   \n",
      "25%             5.75000          26.750000          408.500000   \n",
      "50%            10.50000          45.500000          527.000000   \n",
      "75%            15.25000          59.000000          628.750000   \n",
      "max            20.00000          80.000000         1396.000000   \n",
      "\n",
      "       marketing_ext.nbenfantsacharge  \n",
      "count                       20.000000  \n",
      "mean                         0.950000  \n",
      "std                          1.276302  \n",
      "min                          0.000000  \n",
      "25%                          0.000000  \n",
      "50%                          0.000000  \n",
      "75%                          2.000000  \n",
      "max                          3.000000  \n",
      "Affichage des types de données et des valeurs manquantes  de  Marketing\n",
      "<class 'pandas.core.frame.DataFrame'>\n",
      "RangeIndex: 20 entries, 0 to 19\n",
      "Data columns (total 7 columns):\n",
      " #   Column                            Non-Null Count  Dtype \n",
      "---  ------                            --------------  ----- \n",
      " 0   marketing_ext.id                  20 non-null     int64 \n",
      " 1   marketing_ext.age                 20 non-null     int64 \n",
      " 2   marketing_ext.sexe                20 non-null     object\n",
      " 3   marketing_ext.taux                20 non-null     int64 \n",
      " 4   marketing_ext.situationfamiliale  20 non-null     object\n",
      " 5   marketing_ext.nbenfantsacharge    20 non-null     int64 \n",
      " 6   marketing_ext.deuxiemevoiture     20 non-null     bool  \n",
      "dtypes: bool(1), int64(4), object(2)\n",
      "memory usage: 1.1+ KB\n",
      "None\n",
      "Vérification des valeurs manquantes  de  Marketing\n",
      "marketing_ext.id                    0\n",
      "marketing_ext.age                   0\n",
      "marketing_ext.sexe                  0\n",
      "marketing_ext.taux                  0\n",
      "marketing_ext.situationfamiliale    0\n",
      "marketing_ext.nbenfantsacharge      0\n",
      "marketing_ext.deuxiemevoiture       0\n",
      "dtype: int64\n",
      "Vérification des doublons  de  Marketing\n",
      "Nombre de doublons : 0\n"
     ]
    }
   ],
   "source": [
    "descriptionDataframe(\"Marketing\",dfMarketing)"
   ]
  },
  {
   "cell_type": "markdown",
   "id": "d65c1305-5791-4e35-97bc-008936be094f",
   "metadata": {},
   "source": [
    "# 4. Fusion des données Clients et Immatriculations"
   ]
  },
  {
   "cell_type": "code",
   "execution_count": 15,
   "id": "899bc898-83e6-4584-a4f3-2c9378f4925d",
   "metadata": {},
   "outputs": [
    {
     "name": "stdout",
     "output_type": "stream",
     "text": [
      "Fusion done\n",
      "   clients_ext.id  clients_ext.age clients_ext.sexe  clients_ext.taux  \\\n",
      "0              24               58                M              1390   \n",
      "1              30               80                M               181   \n",
      "2              47               52                M              1001   \n",
      "3              53               70                F               711   \n",
      "4              65               18                M               503   \n",
      "\n",
      "  clients_ext.situationfamiliale  clients_ext.nbenfantsacharge  \\\n",
      "0                    Célibataire                             0   \n",
      "1                      En Couple                             2   \n",
      "2                    Célibataire                             0   \n",
      "3                      En Couple                             1   \n",
      "4                          Seule                             2   \n",
      "\n",
      "   clients_ext.deuxiemevoiture clients_ext.immatriculation  \\\n",
      "0                        False                  5928 HT 97   \n",
      "1                        False                  1423 TX 42   \n",
      "2                        False                  1179 KY 62   \n",
      "3                         True                  2815 PE 86   \n",
      "4                        False                  2095 TQ 54   \n",
      "\n",
      "  immatriculation_ext.immatriculation immatriculation_ext.marque  \\\n",
      "0                          5928 HT 97                       Audi   \n",
      "1                          1423 TX 42                     Nissan   \n",
      "2                          1179 KY 62                       Audi   \n",
      "3                          2815 PE 86                       Audi   \n",
      "4                          2095 TQ 54                     Jaguar   \n",
      "\n",
      "  immatriculation_ext.nom  immatriculation_ext.puissance  \\\n",
      "0                  A2 1.4                             75   \n",
      "1             Primera 1.6                            109   \n",
      "2                  A2 1.4                             75   \n",
      "3                  A2 1.4                             75   \n",
      "4           X-Type 2.5 V6                            197   \n",
      "\n",
      "  immatriculation_ext.longueur  immatriculation_ext.nbplaces  \\\n",
      "0                       courte                             5   \n",
      "1                       longue                             5   \n",
      "2                       courte                             5   \n",
      "3                       courte                             5   \n",
      "4                       longue                             5   \n",
      "\n",
      "   immatriculation_ext.nbportes immatriculation_ext.couleur  \\\n",
      "0                             5                        noir   \n",
      "1                             5                        gris   \n",
      "2                             5                        gris   \n",
      "3                             5                        bleu   \n",
      "4                             5                       blanc   \n",
      "\n",
      "   immatriculation_ext.occasion  immatriculation_ext.prix  \n",
      "0                         False                     18310  \n",
      "1                         False                     18650  \n",
      "2                         False                     18310  \n",
      "3                         False                     18310  \n",
      "4                          True                     25970  \n"
     ]
    }
   ],
   "source": [
    "# Fusionner les deux DataFrames sur la colonne 'immatriculation'\n",
    "dfClientImmatriculation = pd.merge(dfClients, dfImmatriculation, how='inner', left_on='clients_ext.immatriculation', right_on='immatriculation_ext.immatriculation')\n",
    "print(\"Fusion done\")\n",
    "\n",
    "# Afficher les premières lignes du DataFrame fusionné\n",
    "print(dfClientImmatriculation.head())"
   ]
  },
  {
   "cell_type": "code",
   "execution_count": 16,
   "id": "50e851cd-c7f2-41e0-9e17-38a11fdb984e",
   "metadata": {},
   "outputs": [
    {
     "name": "stdout",
     "output_type": "stream",
     "text": [
      "Affichage des statistiques descriptives de  ClientImmatriculation\n",
      "       clients_ext.id  clients_ext.age  clients_ext.taux  \\\n",
      "count   100306.000000    100306.000000     100306.000000   \n",
      "mean     49988.952934        43.545381        607.978785   \n",
      "std      28869.199235        18.459213        337.528035   \n",
      "min          1.000000        -1.000000         -1.000000   \n",
      "25%      24985.250000        27.000000        420.000000   \n",
      "50%      49982.500000        41.000000        521.000000   \n",
      "75%      74992.750000        56.000000        831.000000   \n",
      "max     100000.000000        84.000000       1399.000000   \n",
      "\n",
      "       clients_ext.nbenfantsacharge  immatriculation_ext.puissance  \\\n",
      "count                 100306.000000                  100306.000000   \n",
      "mean                       1.249168                     199.289534   \n",
      "std                        1.390453                     137.177224   \n",
      "min                       -1.000000                      55.000000   \n",
      "25%                        0.000000                      75.000000   \n",
      "50%                        1.000000                     150.000000   \n",
      "75%                        2.000000                     245.000000   \n",
      "max                        4.000000                     507.000000   \n",
      "\n",
      "       immatriculation_ext.nbplaces  immatriculation_ext.nbportes  \\\n",
      "count                      100306.0                 100306.000000   \n",
      "mean                            5.0                      4.867266   \n",
      "std                             0.0                      0.497847   \n",
      "min                             5.0                      3.000000   \n",
      "25%                             5.0                      5.000000   \n",
      "50%                             5.0                      5.000000   \n",
      "75%                             5.0                      5.000000   \n",
      "max                             5.0                      5.000000   \n",
      "\n",
      "       immatriculation_ext.prix  \n",
      "count             100306.000000  \n",
      "mean               35836.115507  \n",
      "std                25826.359650  \n",
      "min                 7500.000000  \n",
      "25%                18310.000000  \n",
      "50%                25970.000000  \n",
      "75%                49200.000000  \n",
      "max               101300.000000  \n",
      "Affichage des types de données et des valeurs manquantes  de  ClientImmatriculation\n",
      "<class 'pandas.core.frame.DataFrame'>\n",
      "RangeIndex: 100306 entries, 0 to 100305\n",
      "Data columns (total 18 columns):\n",
      " #   Column                               Non-Null Count   Dtype \n",
      "---  ------                               --------------   ----- \n",
      " 0   clients_ext.id                       100306 non-null  int64 \n",
      " 1   clients_ext.age                      100306 non-null  int64 \n",
      " 2   clients_ext.sexe                     100306 non-null  object\n",
      " 3   clients_ext.taux                     100306 non-null  int64 \n",
      " 4   clients_ext.situationfamiliale       100306 non-null  object\n",
      " 5   clients_ext.nbenfantsacharge         100306 non-null  int64 \n",
      " 6   clients_ext.deuxiemevoiture          100306 non-null  bool  \n",
      " 7   clients_ext.immatriculation          100306 non-null  object\n",
      " 8   immatriculation_ext.immatriculation  100306 non-null  object\n",
      " 9   immatriculation_ext.marque           100306 non-null  object\n",
      " 10  immatriculation_ext.nom              100306 non-null  object\n",
      " 11  immatriculation_ext.puissance        100306 non-null  int64 \n",
      " 12  immatriculation_ext.longueur         100306 non-null  object\n",
      " 13  immatriculation_ext.nbplaces         100306 non-null  int64 \n",
      " 14  immatriculation_ext.nbportes         100306 non-null  int64 \n",
      " 15  immatriculation_ext.couleur          100306 non-null  object\n",
      " 16  immatriculation_ext.occasion         100306 non-null  bool  \n",
      " 17  immatriculation_ext.prix             100306 non-null  int64 \n",
      "dtypes: bool(2), int64(8), object(8)\n",
      "memory usage: 12.4+ MB\n",
      "None\n",
      "Vérification des valeurs manquantes  de  ClientImmatriculation\n",
      "clients_ext.id                         0\n",
      "clients_ext.age                        0\n",
      "clients_ext.sexe                       0\n",
      "clients_ext.taux                       0\n",
      "clients_ext.situationfamiliale         0\n",
      "clients_ext.nbenfantsacharge           0\n",
      "clients_ext.deuxiemevoiture            0\n",
      "clients_ext.immatriculation            0\n",
      "immatriculation_ext.immatriculation    0\n",
      "immatriculation_ext.marque             0\n",
      "immatriculation_ext.nom                0\n",
      "immatriculation_ext.puissance          0\n",
      "immatriculation_ext.longueur           0\n",
      "immatriculation_ext.nbplaces           0\n",
      "immatriculation_ext.nbportes           0\n",
      "immatriculation_ext.couleur            0\n",
      "immatriculation_ext.occasion           0\n",
      "immatriculation_ext.prix               0\n",
      "dtype: int64\n",
      "Vérification des doublons  de  ClientImmatriculation\n",
      "Nombre de doublons : 0\n"
     ]
    }
   ],
   "source": [
    "descriptionDataframe(\"ClientImmatriculation\",dfClientImmatriculation)"
   ]
  },
  {
   "cell_type": "markdown",
   "id": "fd7d5f13-d589-41ea-a15b-4e704f6864c5",
   "metadata": {},
   "source": [
    "## Histogramme / Matrice de corelaton"
   ]
  },
  {
   "cell_type": "code",
   "execution_count": 19,
   "id": "48da546c-3f79-4797-855f-18450d622ea3",
   "metadata": {},
   "outputs": [
    {
     "name": "stderr",
     "output_type": "stream",
     "text": [
      "Matplotlib created a temporary cache directory at /tmp/matplotlib-oo19zv7l because the default path (/home/vagrant/.config/matplotlib) is not a writable directory; it is highly recommended to set the MPLCONFIGDIR environment variable to a writable directory, in particular to speed up the import of Matplotlib and to better support multiprocessing.\n"
     ]
    }
   ],
   "source": [
    "import seaborn as sns\n",
    "import matplotlib.pyplot as plt"
   ]
  },
  {
   "cell_type": "code",
   "execution_count": 129,
   "id": "eeb249ff-abb4-498c-bc9e-81b1302aed04",
   "metadata": {},
   "outputs": [],
   "source": [
    "df = dfClientImmatriculation.copy()"
   ]
  },
  {
   "cell_type": "code",
   "execution_count": 84,
   "id": "971a4a23-d09f-4b21-b1f4-f8eb520f4772",
   "metadata": {},
   "outputs": [
    {
     "name": "stdout",
     "output_type": "stream",
     "text": [
      "situationfamiliale :  [5]\n"
     ]
    }
   ],
   "source": [
    "# Sélection distincte de la colonne 'A'\n",
    "distinct_values = dfImmatriculation['immatriculation_ext.nbplaces'].unique()\n",
    "print(\"situationfamiliale : \",distinct_values)"
   ]
  },
  {
   "cell_type": "code",
   "execution_count": 67,
   "id": "4a54423a-30ef-4397-b1a7-d1e79de0aba8",
   "metadata": {},
   "outputs": [
    {
     "name": "stdout",
     "output_type": "stream",
     "text": [
      "situationfamiliale :  ['Célibataire' 'En Couple' 'Seule' 'N/D' '?' '' 'Seul' 'Marié(e)'\n",
      " 'Divorcée']\n"
     ]
    }
   ],
   "source": [
    "distinct_values = dfClientImmatriculation['clients_ext.situationfamiliale'].unique()\n",
    "print(\"situationfamiliale : \",distinct_values)"
   ]
  },
  {
   "cell_type": "code",
   "execution_count": 68,
   "id": "d5fb7434-f715-4a2c-8262-dbc0bdbc9f95",
   "metadata": {},
   "outputs": [
    {
     "name": "stdout",
     "output_type": "stream",
     "text": [
      "Taux max :  1399\n"
     ]
    }
   ],
   "source": [
    "distinct_values = dfClientImmatriculation['clients_ext.taux'].max()\n",
    "print(\"Taux max : \",distinct_values)"
   ]
  },
  {
   "cell_type": "code",
   "execution_count": 130,
   "id": "44d43431-69bf-41c1-a3ac-5e2094a3804f",
   "metadata": {},
   "outputs": [],
   "source": [
    "def map_change(dataframe, colname, map):\n",
    "    dataframe[colname] = dataframe[colname].map(map)"
   ]
  },
  {
   "cell_type": "code",
   "execution_count": 132,
   "id": "1933ed69-d6c4-472c-8758-aa604dbb61ae",
   "metadata": {},
   "outputs": [
    {
     "data": {
      "text/html": [
       "<div>\n",
       "<style scoped>\n",
       "    .dataframe tbody tr th:only-of-type {\n",
       "        vertical-align: middle;\n",
       "    }\n",
       "\n",
       "    .dataframe tbody tr th {\n",
       "        vertical-align: top;\n",
       "    }\n",
       "\n",
       "    .dataframe thead th {\n",
       "        text-align: right;\n",
       "    }\n",
       "</style>\n",
       "<table border=\"1\" class=\"dataframe\">\n",
       "  <thead>\n",
       "    <tr style=\"text-align: right;\">\n",
       "      <th></th>\n",
       "      <th>clients_ext.id</th>\n",
       "      <th>clients_ext.age</th>\n",
       "      <th>clients_ext.sexe</th>\n",
       "      <th>clients_ext.taux</th>\n",
       "      <th>clients_ext.situationfamiliale</th>\n",
       "      <th>clients_ext.nbenfantsacharge</th>\n",
       "      <th>clients_ext.deuxiemevoiture</th>\n",
       "      <th>clients_ext.immatriculation</th>\n",
       "      <th>immatriculation_ext.immatriculation</th>\n",
       "      <th>immatriculation_ext.marque</th>\n",
       "      <th>immatriculation_ext.nom</th>\n",
       "      <th>immatriculation_ext.puissance</th>\n",
       "      <th>immatriculation_ext.longueur</th>\n",
       "      <th>immatriculation_ext.nbplaces</th>\n",
       "      <th>immatriculation_ext.nbportes</th>\n",
       "      <th>immatriculation_ext.couleur</th>\n",
       "      <th>immatriculation_ext.occasion</th>\n",
       "      <th>immatriculation_ext.prix</th>\n",
       "    </tr>\n",
       "  </thead>\n",
       "  <tbody>\n",
       "    <tr>\n",
       "      <th>0</th>\n",
       "      <td>24</td>\n",
       "      <td>58</td>\n",
       "      <td>0.0</td>\n",
       "      <td>1390</td>\n",
       "      <td>Célibataire</td>\n",
       "      <td>0</td>\n",
       "      <td>False</td>\n",
       "      <td>5928 HT 97</td>\n",
       "      <td>5928 HT 97</td>\n",
       "      <td>Audi</td>\n",
       "      <td>A2 1.4</td>\n",
       "      <td>75</td>\n",
       "      <td>courte</td>\n",
       "      <td>5</td>\n",
       "      <td>5</td>\n",
       "      <td>noir</td>\n",
       "      <td>False</td>\n",
       "      <td>18310</td>\n",
       "    </tr>\n",
       "    <tr>\n",
       "      <th>1</th>\n",
       "      <td>30</td>\n",
       "      <td>80</td>\n",
       "      <td>0.0</td>\n",
       "      <td>181</td>\n",
       "      <td>En Couple</td>\n",
       "      <td>2</td>\n",
       "      <td>False</td>\n",
       "      <td>1423 TX 42</td>\n",
       "      <td>1423 TX 42</td>\n",
       "      <td>Nissan</td>\n",
       "      <td>Primera 1.6</td>\n",
       "      <td>109</td>\n",
       "      <td>longue</td>\n",
       "      <td>5</td>\n",
       "      <td>5</td>\n",
       "      <td>gris</td>\n",
       "      <td>False</td>\n",
       "      <td>18650</td>\n",
       "    </tr>\n",
       "    <tr>\n",
       "      <th>2</th>\n",
       "      <td>47</td>\n",
       "      <td>52</td>\n",
       "      <td>0.0</td>\n",
       "      <td>1001</td>\n",
       "      <td>Célibataire</td>\n",
       "      <td>0</td>\n",
       "      <td>False</td>\n",
       "      <td>1179 KY 62</td>\n",
       "      <td>1179 KY 62</td>\n",
       "      <td>Audi</td>\n",
       "      <td>A2 1.4</td>\n",
       "      <td>75</td>\n",
       "      <td>courte</td>\n",
       "      <td>5</td>\n",
       "      <td>5</td>\n",
       "      <td>gris</td>\n",
       "      <td>False</td>\n",
       "      <td>18310</td>\n",
       "    </tr>\n",
       "    <tr>\n",
       "      <th>3</th>\n",
       "      <td>53</td>\n",
       "      <td>70</td>\n",
       "      <td>1.0</td>\n",
       "      <td>711</td>\n",
       "      <td>En Couple</td>\n",
       "      <td>1</td>\n",
       "      <td>True</td>\n",
       "      <td>2815 PE 86</td>\n",
       "      <td>2815 PE 86</td>\n",
       "      <td>Audi</td>\n",
       "      <td>A2 1.4</td>\n",
       "      <td>75</td>\n",
       "      <td>courte</td>\n",
       "      <td>5</td>\n",
       "      <td>5</td>\n",
       "      <td>bleu</td>\n",
       "      <td>False</td>\n",
       "      <td>18310</td>\n",
       "    </tr>\n",
       "    <tr>\n",
       "      <th>4</th>\n",
       "      <td>65</td>\n",
       "      <td>18</td>\n",
       "      <td>0.0</td>\n",
       "      <td>503</td>\n",
       "      <td>Seule</td>\n",
       "      <td>2</td>\n",
       "      <td>False</td>\n",
       "      <td>2095 TQ 54</td>\n",
       "      <td>2095 TQ 54</td>\n",
       "      <td>Jaguar</td>\n",
       "      <td>X-Type 2.5 V6</td>\n",
       "      <td>197</td>\n",
       "      <td>longue</td>\n",
       "      <td>5</td>\n",
       "      <td>5</td>\n",
       "      <td>blanc</td>\n",
       "      <td>True</td>\n",
       "      <td>25970</td>\n",
       "    </tr>\n",
       "  </tbody>\n",
       "</table>\n",
       "</div>"
      ],
      "text/plain": [
       "   clients_ext.id  clients_ext.age  clients_ext.sexe  clients_ext.taux  \\\n",
       "0              24               58               0.0              1390   \n",
       "1              30               80               0.0               181   \n",
       "2              47               52               0.0              1001   \n",
       "3              53               70               1.0               711   \n",
       "4              65               18               0.0               503   \n",
       "\n",
       "  clients_ext.situationfamiliale  clients_ext.nbenfantsacharge  \\\n",
       "0                    Célibataire                             0   \n",
       "1                      En Couple                             2   \n",
       "2                    Célibataire                             0   \n",
       "3                      En Couple                             1   \n",
       "4                          Seule                             2   \n",
       "\n",
       "   clients_ext.deuxiemevoiture clients_ext.immatriculation  \\\n",
       "0                        False                  5928 HT 97   \n",
       "1                        False                  1423 TX 42   \n",
       "2                        False                  1179 KY 62   \n",
       "3                         True                  2815 PE 86   \n",
       "4                        False                  2095 TQ 54   \n",
       "\n",
       "  immatriculation_ext.immatriculation immatriculation_ext.marque  \\\n",
       "0                          5928 HT 97                       Audi   \n",
       "1                          1423 TX 42                     Nissan   \n",
       "2                          1179 KY 62                       Audi   \n",
       "3                          2815 PE 86                       Audi   \n",
       "4                          2095 TQ 54                     Jaguar   \n",
       "\n",
       "  immatriculation_ext.nom  immatriculation_ext.puissance  \\\n",
       "0                  A2 1.4                             75   \n",
       "1             Primera 1.6                            109   \n",
       "2                  A2 1.4                             75   \n",
       "3                  A2 1.4                             75   \n",
       "4           X-Type 2.5 V6                            197   \n",
       "\n",
       "  immatriculation_ext.longueur  immatriculation_ext.nbplaces  \\\n",
       "0                       courte                             5   \n",
       "1                       longue                             5   \n",
       "2                       courte                             5   \n",
       "3                       courte                             5   \n",
       "4                       longue                             5   \n",
       "\n",
       "   immatriculation_ext.nbportes immatriculation_ext.couleur  \\\n",
       "0                             5                        noir   \n",
       "1                             5                        gris   \n",
       "2                             5                        gris   \n",
       "3                             5                        bleu   \n",
       "4                             5                       blanc   \n",
       "\n",
       "   immatriculation_ext.occasion  immatriculation_ext.prix  \n",
       "0                         False                     18310  \n",
       "1                         False                     18650  \n",
       "2                         False                     18310  \n",
       "3                         False                     18310  \n",
       "4                          True                     25970  "
      ]
     },
     "execution_count": 132,
     "metadata": {},
     "output_type": "execute_result"
    }
   ],
   "source": [
    "map_change(df, 'clients_ext.sexe', {'M': 0, 'F': 1})\n",
    "\n",
    "map_change(df, 'clients_ext.situationfamiliale', {\n",
    "        '?': -1, 'N/D': -1, '': -1,\n",
    "        'Célibataire': 0, 'Seule': 0, 'Seul': 0,\n",
    "        'En Couple': 1, \n",
    "        'Marié(e)': 2, \n",
    "        'Divorcée': 2, \n",
    "    })\n",
    "\n",
    "map_change(df, 'immatriculation_ext.occasion', {False: 0, True: 1})\n",
    "\n",
    "map_change(df, 'immatriculation_ext.longueur', {'très longue': 3, 'longue': 2, 'moyenne': 1, 'courte': 0})"
   ]
  },
  {
   "cell_type": "code",
   "execution_count": 126,
   "id": "7272a809-d9f9-43a5-83a5-4821284e0768",
   "metadata": {},
   "outputs": [],
   "source": [
    "# Calcul de la matrice de corrélation\n",
    "corr_matrix = df[[\n",
    "    'clients_ext.situationfamiliale', \n",
    "    'clients_ext.sexe',\n",
    "    'clients_ext.age',\n",
    "    'clients_ext.taux',\n",
    "    'clients_ext.nbenfantsacharge', \n",
    "    'immatriculation_ext.puissance', \n",
    "    'immatriculation_ext.longueur',\n",
    "    'immatriculation_ext.nbportes',\n",
    "    'immatriculation_ext.prix',\n",
    "]].corr()"
   ]
  },
  {
   "cell_type": "code",
   "execution_count": 127,
   "id": "905b8edc-abaf-4e65-aa23-a514536bd6ca",
   "metadata": {},
   "outputs": [
    {
     "data": {
      "image/png": "[encoded data removed]",
      "text/plain": [
       "<Figure size 1200x800 with 2 Axes>"
      ]
     },
     "metadata": {},
     "output_type": "display_data"
    }
   ],
   "source": [
    "# Visualisation de la matrice de corrélation\n",
    "plt.figure(figsize=(12, 8))\n",
    "sns.heatmap(corr_matrix, annot=True, cmap='coolwarm', linewidths=0.5)\n",
    "plt.title('Heatmap des corrélations')\n",
    "plt.show()"
   ]
  },
  {
   "cell_type": "markdown",
   "id": "790447c3-9113-4616-804b-9ce6c55b4b84",
   "metadata": {},
   "source": [
    "### Conclusion:\n",
    "\n",
    "1. Variables importantes:\n",
    "   - La puissance, le prix, la longueur, la situation familiale et le nombre d'enfants sont des variables importantes car elles montrent de fortes corrélations avec plusieurs autres variables. Elles peuvent être utilisées pour distinguer les catégories de véhicules.\n",
    "   - Le nombre de portes, la situation famiale et le taux  montrent peu de corrélations significatives avec les autres variables,mais ils ne doivent pas être exclu sans une analyse plus approfondie de son impact potentiel sur la catégorisation.\n",
    "2. Variables moins pertinentes: age et sexe semblent être moins informative pour le clustering.\n",
    "3. Variables à considérer pour le Clustering: situationfamiliale, nbenfantsacharge, puissance, longueur, nbportes, prix "
   ]
  },
  {
   "cell_type": "markdown",
   "id": "9ebafb14-b806-4b38-9efd-deef2e10d0f5",
   "metadata": {},
   "source": [
    "# 2. Categorisation des véhicules"
   ]
  },
  {
   "cell_type": "code",
   "execution_count": null,
   "id": "9a7feb0b-822d-4b31-b30e-c98d26b6b7e9",
   "metadata": {},
   "outputs": [],
   "source": [
    "df_used = dfClientImmatriculation[[\n",
    "    'clients_ext.situationfamiliale', \n",
    "    'clients_ext.taux', \n",
    "    'clients_ext.nbenfantsacharge', \n",
    "    'immatriculation_ext.puissance',\n",
    "    'immatriculation_ext.longueur',\n",
    "    'immatriculation_ext.nbportes',\n",
    "    'immatriculation_ext.prix',\n",
    "]]"
   ]
  },
  {
   "cell_type": "code",
   "execution_count": null,
   "id": "189525b0-4076-4fcb-9896-5bf3e3ac5909",
   "metadata": {},
   "outputs": [],
   "source": [
    "map_change(df_used, 'clients_ext.sexe', {'M': 0, 'F': 1})\n",
    "\n",
    "map_change(df_used, 'clients_ext.situationfamiliale', {\n",
    "        '?': -1, 'N/D': -1, '': -1,\n",
    "        'Célibataire': 0, 'Seule': 0, 'Seul': 0,\n",
    "        'En Couple': 1, \n",
    "        'Marié(e)': 2, \n",
    "        'Divorcée': 2, \n",
    "    })\n",
    "\n",
    "map_change(df_used, 'immatriculation_ext.occasion', {False: 0, True: 1})\n",
    "\n",
    "map_change(df_used, 'immatriculation_ext.longueur', {'très longue': 3, 'longue': 2, 'moyenne': 1, 'courte': 0})"
   ]
  }
 ],
 "metadata": {
  "kernelspec": {
   "display_name": "Python 3 (ipykernel)",
   "language": "python",
   "name": "python3"
  },
  "language_info": {
   "codemirror_mode": {
    "name": "ipython",
    "version": 3
   },
   "file_extension": ".py",
   "mimetype": "text/x-python",
   "name": "python",
   "nbconvert_exporter": "python",
   "pygments_lexer": "ipython3",
   "version": "3.9.18"
  }
 },
 "nbformat": 4,
 "nbformat_minor": 5
}
