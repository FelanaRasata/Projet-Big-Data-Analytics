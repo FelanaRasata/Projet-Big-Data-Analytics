{
 "cells": [
  {
   "cell_type": "code",
   "execution_count": 1,
   "id": "0987817c-fea7-45c8-bc7d-778d05f05c7e",
   "metadata": {},
   "outputs": [
    {
     "name": "stdout",
     "output_type": "stream",
     "text": [
      "Found 1 items\n",
      "-rw-r--r--   1 vagrant supergroup      38916 2024-06-09 19:27 /tpa_groupe_14/data/co2/CO2.csv\n"
     ]
    }
   ],
   "source": [
    "!hadoop fs -ls /tpa_groupe_14/data/co2"
   ]
  },
  {
   "cell_type": "code",
   "execution_count": 2,
   "id": "926a4f87-f7a1-4954-805b-dfc9f28f28bc",
   "metadata": {},
   "outputs": [
    {
     "name": "stderr",
     "output_type": "stream",
     "text": [
      "Setting default log level to \"WARN\".\n",
      "To adjust logging level use sc.setLogLevel(newLevel). For SparkR, use setLogLevel(newLevel).\n"
     ]
    }
   ],
   "source": [
    "from pyspark.sql import SparkSession\n",
    "\n",
    "spark = SparkSession.builder \\\n",
    "    .master(\"local[*]\") \\\n",
    "    .appName(\"TPT-HADOOP_MAP_REDUCE\") \\\n",
    "    .getOrCreate()"
   ]
  },
  {
   "cell_type": "code",
   "execution_count": 3,
   "id": "acf9f668-4ba9-42f0-aa97-c2ad665d095f",
   "metadata": {},
   "outputs": [],
   "source": [
    "def load_data_in_csv_file(filename,separator,head):\n",
    "    # This path is based on this instruction `2. Upload all resulting csv files to HDFS.`\n",
    "    df = spark.read.options(delimiter=separator, header=head).csv(filename)\n",
    "\n",
    "    # Display schema and first five rows of the DataFrame\n",
    "    print(\"Schema and first rows in\", filename)\n",
    "    print(\"Count : \",df.count())\n",
    "    df.printSchema()\n",
    "    df.show(5)\n",
    "    \n",
    "    return df"
   ]
  },
  {
   "cell_type": "markdown",
   "id": "a19cabd8-3e91-4db0-aeb9-95f45f89f508",
   "metadata": {},
   "source": [
    "## Chargement de données"
   ]
  },
  {
   "cell_type": "code",
   "execution_count": 4,
   "id": "a8f52259-90b8-4b47-a5cd-9bee00291e8c",
   "metadata": {},
   "outputs": [
    {
     "name": "stderr",
     "output_type": "stream",
     "text": [
      "                                                                                \r"
     ]
    },
    {
     "name": "stdout",
     "output_type": "stream",
     "text": [
      "Schema and first rows in /tpa_groupe_14/data/co2/CO2.csv\n",
      "Count :  437\n",
      "root\n",
      " |-- _c0: string (nullable = true)\n",
      " |-- Marque / Modele: string (nullable = true)\n",
      " |-- Bonus / Malus: string (nullable = true)\n",
      " |-- Rejets CO2 g/km: string (nullable = true)\n",
      " |-- Cout enerie: string (nullable = true)\n",
      "\n",
      "+---+--------------------+-------------+---------------+-----------+\n",
      "|_c0|     Marque / Modele|Bonus / Malus|Rejets CO2 g/km|Cout enerie|\n",
      "+---+--------------------+-------------+---------------+-----------+\n",
      "|  2|AUDI E-TRON SPORT...|    -6 000€ 1|              0|      319 €|\n",
      "|  3|AUDI E-TRON SPORT...|    -6 000€ 1|              0|      356 €|\n",
      "|  4|AUDI E-TRON 55 (4...|    -6 000€ 1|              0|      357 €|\n",
      "|  5|AUDI E-TRON 50 (3...|    -6 000€ 1|              0|      356 €|\n",
      "|  6|       BMW i3 120 Ah|    -6 000€ 1|              0|      204 €|\n",
      "+---+--------------------+-------------+---------------+-----------+\n",
      "only showing top 5 rows\n",
      "\n"
     ]
    },
    {
     "name": "stderr",
     "output_type": "stream",
     "text": [
      "24/06/09 19:31:23 WARN CSVHeaderChecker: CSV header does not conform to the schema.\n",
      " Header: , Marque / Modele, Bonus / Malus, Rejets CO2 g/km, Cout enerie\n",
      " Schema: _c0, Marque / Modele, Bonus / Malus, Rejets CO2 g/km, Cout enerie\n",
      "Expected: _c0 but found: \n",
      "CSV file: hdfs://localhost:9000/tpa_groupe_14/data/co2/CO2.csv\n"
     ]
    }
   ],
   "source": [
    "# Prendre CO2.csv deppuis hdfs\n",
    "co2_hdfs_df = load_data_in_csv_file(\"/tpa_groupe_14/data/co2/CO2.csv\",\",\", True)"
   ]
  },
  {
   "cell_type": "code",
   "execution_count": 5,
   "id": "febceb9f-2741-4696-831e-a8b040d052aa",
   "metadata": {},
   "outputs": [
    {
     "name": "stdout",
     "output_type": "stream",
     "text": [
      "Schema and first rows in /user/hive/warehouse/catalogue\n",
      "Count :  270\n",
      "root\n",
      " |-- _c0: string (nullable = true)\n",
      " |-- _c1: string (nullable = true)\n",
      " |-- _c2: string (nullable = true)\n",
      " |-- _c3: string (nullable = true)\n",
      " |-- _c4: string (nullable = true)\n",
      " |-- _c5: string (nullable = true)\n",
      " |-- _c6: string (nullable = true)\n",
      " |-- _c7: string (nullable = true)\n",
      " |-- _c8: string (nullable = true)\n",
      " |-- _c9: string (nullable = true)\n",
      "\n",
      "+---+-----+------+---+-----------+---+---+-----+-----+-----+\n",
      "|_c0|  _c1|   _c2|_c3|        _c4|_c5|_c6|  _c7|  _c8|  _c9|\n",
      "+---+-----+------+---+-----------+---+---+-----+-----+-----+\n",
      "|  1|Volvo|S80 T6|272|très longue|  5|  5|blanc|false|50500|\n",
      "|  2|Volvo|S80 T6|272|très longue|  5|  5| noir|false|50500|\n",
      "|  3|Volvo|S80 T6|272|très longue|  5|  5|rouge|false|50500|\n",
      "|  4|Volvo|S80 T6|272|très longue|  5|  5| gris| true|35350|\n",
      "|  5|Volvo|S80 T6|272|très longue|  5|  5| bleu| true|35350|\n",
      "+---+-----+------+---+-----------+---+---+-----+-----+-----+\n",
      "only showing top 5 rows\n",
      "\n"
     ]
    },
    {
     "data": {
      "text/plain": [
       "DataFrame[_c0: string, _c1: string, _c2: string, _c3: string, _c4: string, _c5: string, _c6: string, _c7: string, _c8: string, _c9: string]"
      ]
     },
     "execution_count": 5,
     "metadata": {},
     "output_type": "execute_result"
    }
   ],
   "source": [
    "# Prendre catalogue deppuis hdfs, les données cache de Hive\n",
    "catalogue_hive_df = load_data_in_csv_file(\"/user/hive/warehouse/catalogue\",'\\t',False)\n",
    "catalogue_hive_df.cache()"
   ]
  },
  {
   "cell_type": "markdown",
   "id": "8a3a1224-3a47-44ad-bf5d-28fbfffb3471",
   "metadata": {},
   "source": [
    "### Ajouter une colonne marque dans CO2"
   ]
  },
  {
   "cell_type": "code",
   "execution_count": 6,
   "id": "8422a070-a834-40db-94c4-33407831e9da",
   "metadata": {},
   "outputs": [],
   "source": [
    "from pyspark.sql.functions import col\n",
    "\n",
    "# Prendre les \"marque\" présent dans catalogue\n",
    "marque_catalogue_df = catalogue_hive_df.select(col(\"_c1\")).distinct()"
   ]
  },
  {
   "cell_type": "code",
   "execution_count": 7,
   "id": "be0c861c-a4bd-44fe-b8cb-9a5144b24129",
   "metadata": {},
   "outputs": [
    {
     "name": "stdout",
     "output_type": "stream",
     "text": [
      "+----------+\n",
      "|    Marque|\n",
      "+----------+\n",
      "|Volkswagen|\n",
      "|   Peugeot|\n",
      "|    Jaguar|\n",
      "|    Lancia|\n",
      "|      Mini|\n",
      "+----------+\n",
      "only showing top 5 rows\n",
      "\n"
     ]
    },
    {
     "data": {
      "text/plain": [
       "DataFrame[Marque: string]"
      ]
     },
     "execution_count": 7,
     "metadata": {},
     "output_type": "execute_result"
    }
   ],
   "source": [
    "# Renommer \"_c1\" en \"Marque\"\n",
    "marque_catalogue_df = marque_catalogue_df.withColumnRenamed(\"_c1\", \"Marque\")\n",
    "marque_catalogue_df.show(5)\n",
    "# Store all the \"marque\" in catalogue\n",
    "marque_catalogue_df.cache()"
   ]
  },
  {
   "cell_type": "code",
   "execution_count": 8,
   "id": "91772151-8a96-47d5-a18a-1c49a64ac466",
   "metadata": {},
   "outputs": [
    {
     "name": "stdout",
     "output_type": "stream",
     "text": [
      "Nombre de marque :  21\n"
     ]
    }
   ],
   "source": [
    "print(\"Nombre de marque : \" ,marque_catalogue_df.count())"
   ]
  },
  {
   "cell_type": "code",
   "execution_count": 9,
   "id": "6325e783-4f9c-4eba-944b-a2e2b13480a3",
   "metadata": {},
   "outputs": [],
   "source": [
    "from pyspark.sql.functions import lower\n",
    "\n",
    "# Prendre \"marque\" de Catalogue et le mettre dans \"CO2\" \n",
    "# Enlever la colonne \"Marque / Modele\"\n",
    "join_df = co2_hdfs_df.join(marque_catalogue_df, lower(co2_hdfs_df[\"Marque / Modele\"]).\\\n",
    "                                  contains(lower(marque_catalogue_df[\"Marque\"])), \"inner\")\n",
    "\n",
    "co2_marque_df = join_df.drop(\"Marque / Modele\")"
   ]
  },
  {
   "cell_type": "code",
   "execution_count": 10,
   "id": "d206a98b-ddf6-4de2-a7fd-46b48105dc6f",
   "metadata": {},
   "outputs": [
    {
     "name": "stdout",
     "output_type": "stream",
     "text": [
      "+---+-------------+---------------+-----------+------+\n",
      "|_c0|Bonus / Malus|Rejets CO2 g/km|Cout enerie|Marque|\n",
      "+---+-------------+---------------+-----------+------+\n",
      "|  2|    -6 000€ 1|              0|      319 €|  Audi|\n",
      "|  3|    -6 000€ 1|              0|      356 €|  Audi|\n",
      "|  4|    -6 000€ 1|              0|      357 €|  Audi|\n",
      "|  5|    -6 000€ 1|              0|      356 €|  Audi|\n",
      "|  6|    -6 000€ 1|              0|      204 €|   BMW|\n",
      "+---+-------------+---------------+-----------+------+\n",
      "only showing top 5 rows\n",
      "\n"
     ]
    },
    {
     "name": "stderr",
     "output_type": "stream",
     "text": [
      "24/06/09 19:32:12 WARN CSVHeaderChecker: CSV header does not conform to the schema.\n",
      " Header: , Marque / Modele, Bonus / Malus, Rejets CO2 g/km, Cout enerie\n",
      " Schema: _c0, Marque / Modele, Bonus / Malus, Rejets CO2 g/km, Cout enerie\n",
      "Expected: _c0 but found: \n",
      "CSV file: hdfs://localhost:9000/tpa_groupe_14/data/co2/CO2.csv\n"
     ]
    }
   ],
   "source": [
    "co2_marque_df.show(5)"
   ]
  },
  {
   "cell_type": "markdown",
   "id": "842e7ddd-bc19-473a-925e-9e04c8ca46b8",
   "metadata": {},
   "source": [
    "### Formatage de valeurs dans CO2"
   ]
  },
  {
   "cell_type": "code",
   "execution_count": 11,
   "id": "6c853896-a878-422e-b518-1970d441bf8b",
   "metadata": {},
   "outputs": [],
   "source": [
    "from pyspark.sql.functions import udf\n",
    "from pyspark.sql.types import StringType\n",
    "\n",
    "# Fonction pour rectifier les valeurs de \"Bonus / Malus\" et \"Cout enerie\"\n",
    "# Convertir ses valeurs en nombres\n",
    "def clean_number(value):\n",
    "    string_value = value\n",
    "    if '-' in value and '€' not in value:\n",
    "        return 0\n",
    "    if '€' in value :\n",
    "        string_value = value.split(\"€\", 1)[0]\n",
    "    number = ''.join(filter(lambda x: x.isdigit() or x == '-' or x == '+', string_value))\n",
    "    return int(number) if number else 0\n",
    "\n",
    "clean_value_udf = udf(clean_number, StringType())\n",
    "\n",
    "co2_valid_df = co2_marque_df.\\\n",
    "                    withColumn(\"Bonus / Malus\", clean_value_udf(co2_marque_df[\"Bonus / Malus\"])).\\\n",
    "                    withColumn(\"Cout enerie\", clean_value_udf(co2_marque_df[\"Cout enerie\"]))"
   ]
  },
  {
   "cell_type": "code",
   "execution_count": 12,
   "id": "8ca3f16c-12c9-4a56-913f-7f5f6cbbd0d7",
   "metadata": {},
   "outputs": [
    {
     "name": "stderr",
     "output_type": "stream",
     "text": [
      "24/06/09 19:32:29 WARN CSVHeaderChecker: CSV header does not conform to the schema.\n",
      " Header: , Marque / Modele, Bonus / Malus, Rejets CO2 g/km, Cout enerie\n",
      " Schema: _c0, Marque / Modele, Bonus / Malus, Rejets CO2 g/km, Cout enerie\n",
      "Expected: _c0 but found: \n",
      "CSV file: hdfs://localhost:9000/tpa_groupe_14/data/co2/CO2.csv\n",
      "                                                                                \r"
     ]
    },
    {
     "name": "stdout",
     "output_type": "stream",
     "text": [
      "+---+-------------+---------------+-----------+------+\n",
      "|_c0|Bonus / Malus|Rejets CO2 g/km|Cout enerie|Marque|\n",
      "+---+-------------+---------------+-----------+------+\n",
      "|  2|        -6000|              0|        319|  Audi|\n",
      "|  3|        -6000|              0|        356|  Audi|\n",
      "|  4|        -6000|              0|        357|  Audi|\n",
      "|  5|        -6000|              0|        356|  Audi|\n",
      "|  6|        -6000|              0|        204|   BMW|\n",
      "+---+-------------+---------------+-----------+------+\n",
      "only showing top 5 rows\n",
      "\n",
      "CO2 valide :  389\n"
     ]
    }
   ],
   "source": [
    "co2_valid_df.cache()\n",
    "co2_valid_df.show(5)\n",
    "print(\"CO2 valide : \", co2_valid_df.count())"
   ]
  },
  {
   "cell_type": "markdown",
   "id": "30e97d43-1d0b-4bd6-a1c8-2df9256886ae",
   "metadata": {},
   "source": [
    "### Valuers de CO2 pour tous marque de catalogue"
   ]
  },
  {
   "cell_type": "code",
   "execution_count": 13,
   "id": "6bd0887a-4376-4c1e-9629-15ad5df2705c",
   "metadata": {},
   "outputs": [],
   "source": [
    "from pyspark.sql.functions import avg\n",
    "\n",
    "# Calculer les moyennes de \"Bonus / Malus\" , \"Rejets CO2 g/km\", \"Cout enerie\" regroupé par \"Marque\"\n",
    "co2_marque_avg_df = co2_valid_df.groupBy(\"Marque\") \\\n",
    "                                   .agg(avg(\"Bonus / Malus\").alias(\"Bonus / Malus\"), \\\n",
    "                                        avg(\"Rejets CO2 g/km\").alias(\"Rejets CO2 g/km\"), \\\n",
    "                                        avg(\"Cout enerie\").alias(\"Cout enerie\"))"
   ]
  },
  {
   "cell_type": "code",
   "execution_count": 14,
   "id": "1cdc3cca-cedf-48cb-9aae-a116c34bcfaa",
   "metadata": {},
   "outputs": [],
   "source": [
    "# Calculer les moyennes de \"Bonus / Malus\" , \"Rejets CO2 g/km\", \"Cout enerie\" de tous les lignes\n",
    "co2_all_avg_df = co2_valid_df.select(avg(\"Bonus / Malus\").alias(\"Bonus / Malus\"),\\\n",
    "                           avg(\"Rejets CO2 g/km\").alias(\"Rejets CO2 g/km\"),\\\n",
    "                           avg(\"Cout enerie\").alias(\"Cout enerie\"))\n"
   ]
  },
  {
   "cell_type": "code",
   "execution_count": 15,
   "id": "c9bf2a3d-0801-451b-a733-6b6816c9a384",
   "metadata": {},
   "outputs": [
    {
     "name": "stdout",
     "output_type": "stream",
     "text": [
      "Average by 'Marque'\n",
      "+----------+-------------------+------------------+------------------+\n",
      "|    Marque|      Bonus / Malus|   Rejets CO2 g/km|       Cout enerie|\n",
      "+----------+-------------------+------------------+------------------+\n",
      "|Volkswagen|-1714.2857142857142|23.428571428571427|              96.0|\n",
      "|   Peugeot|            -3000.0|15.833333333333334|144.16666666666666|\n",
      "|    Jaguar|            -6000.0|               0.0|             271.0|\n",
      "|       Kia|            -4000.0|10.333333333333334|157.66666666666666|\n",
      "|      Mini|            -3000.0|              21.5|             126.0|\n",
      "+----------+-------------------+------------------+------------------+\n",
      "only showing top 5 rows\n",
      "\n",
      "Average by 'Marque' :  13\n",
      "Average of all 'Marque'\n",
      "+-----------------+------------------+-----------------+\n",
      "|    Bonus / Malus|   Rejets CO2 g/km|      Cout enerie|\n",
      "+-----------------+------------------+-----------------+\n",
      "|5671.586118251928|152.25192802056554|611.6735218508998|\n",
      "+-----------------+------------------+-----------------+\n",
      "\n"
     ]
    },
    {
     "data": {
      "text/plain": [
       "DataFrame[Bonus / Malus: double, Rejets CO2 g/km: double, Cout enerie: double]"
      ]
     },
     "execution_count": 15,
     "metadata": {},
     "output_type": "execute_result"
    }
   ],
   "source": [
    "# Afficher le resultat\n",
    "print(\"Average by 'Marque'\")\n",
    "co2_marque_avg_df.show(5)\n",
    "print(\"Average by 'Marque' : \", co2_marque_avg_df.count())\n",
    "\n",
    "print(\"Average of all 'Marque'\")\n",
    "co2_all_avg_df.show()\n",
    "\n",
    "co2_marque_avg_df.cache()\n",
    "co2_all_avg_df.cache()"
   ]
  },
  {
   "cell_type": "code",
   "execution_count": 16,
   "id": "dc14f21a-0dbd-4d81-91ee-4cf6e0115ad6",
   "metadata": {},
   "outputs": [
    {
     "name": "stdout",
     "output_type": "stream",
     "text": [
      "Marque not in CO2 but in Cataloque:  8\n",
      "+------+\n",
      "|Marque|\n",
      "+------+\n",
      "|Lancia|\n",
      "|  Saab|\n",
      "| Honda|\n",
      "|  Seat|\n",
      "|  Ford|\n",
      "+------+\n",
      "only showing top 5 rows\n",
      "\n"
     ]
    }
   ],
   "source": [
    "# Prendre \"Marque\" présent dans \"Catalogue\" mais non dans \"CO2\"\n",
    "marque_only_catalogue_df = marque_catalogue_df\\\n",
    "                    .join(co2_marque_avg_df, marque_catalogue_df[\"Marque\"] == co2_marque_avg_df[\"Marque\"], \"left_anti\")\n",
    "print(\"Marque not in CO2 but in Cataloque: \", marque_only_catalogue_df.count())\n",
    "marque_only_catalogue_df.show(5)"
   ]
  },
  {
   "cell_type": "code",
   "execution_count": 17,
   "id": "14091a79-7a25-4dd2-bcf7-21dc9dc6bd7b",
   "metadata": {},
   "outputs": [],
   "source": [
    "# Créer CO2 pour les \"marque\" non présent dans CO2 \n",
    "co2_marque_catalogue_avg_df = marque_only_catalogue_df.crossJoin(co2_all_avg_df)"
   ]
  },
  {
   "cell_type": "code",
   "execution_count": 18,
   "id": "da48ee21-58bf-47f2-af4c-4f20408a031a",
   "metadata": {},
   "outputs": [
    {
     "name": "stdout",
     "output_type": "stream",
     "text": [
      "+----------+-------------------+------------------+------------------+\n",
      "|    marque|         bonusmalus|          rejetco2|       coutenergie|\n",
      "+----------+-------------------+------------------+------------------+\n",
      "|Volkswagen|-1714.2857142857142|23.428571428571427|              96.0|\n",
      "|   Peugeot|            -3000.0|15.833333333333334|144.16666666666666|\n",
      "|    Jaguar|            -6000.0|               0.0|             271.0|\n",
      "|       Kia|            -4000.0|10.333333333333334|157.66666666666666|\n",
      "|      Mini|            -3000.0|              21.5|             126.0|\n",
      "+----------+-------------------+------------------+------------------+\n",
      "only showing top 5 rows\n",
      "\n"
     ]
    }
   ],
   "source": [
    "# Union de tous CO2\n",
    "co2_all_marque_catalogue = co2_marque_avg_df.union(co2_marque_catalogue_avg_df)\n",
    "\n",
    "# Renommer colonnes\n",
    "co2_all_marque_catalogue = co2_all_marque_catalogue.withColumnRenamed(\"Marque\", \"marque\")\n",
    "co2_all_marque_catalogue = co2_all_marque_catalogue.withColumnRenamed(\"Bonus / Malus\", \"bonusmalus\")\n",
    "co2_all_marque_catalogue = co2_all_marque_catalogue.withColumnRenamed(\"Rejets CO2 g/km\", \"rejetco2\")\n",
    "co2_all_marque_catalogue = co2_all_marque_catalogue.withColumnRenamed(\"Cout enerie\", \"coutenergie\")\n",
    "\n",
    "co2_all_marque_catalogue.show(5)"
   ]
  },
  {
   "cell_type": "code",
   "execution_count": 19,
   "id": "95213e7f-78a2-4b0e-8348-5a587f415e7e",
   "metadata": {},
   "outputs": [
    {
     "name": "stdout",
     "output_type": "stream",
     "text": [
      "+----------+-------------------+------------------+------------------+\n",
      "|    marque|         bonusmalus|          rejetco2|       coutenergie|\n",
      "+----------+-------------------+------------------+------------------+\n",
      "|Volkswagen|-1714.2857142857142|23.428571428571427|              96.0|\n",
      "|   Peugeot|            -3000.0|15.833333333333334|144.16666666666666|\n",
      "|    Jaguar|            -6000.0|               0.0|             271.0|\n",
      "|       Kia|            -4000.0|10.333333333333334|157.66666666666666|\n",
      "|      Mini|            -3000.0|              21.5|             126.0|\n",
      "+----------+-------------------+------------------+------------------+\n",
      "only showing top 5 rows\n",
      "\n"
     ]
    }
   ],
   "source": [
    "co2_all_marque_catalogue_tx = co2_all_marque_catalogue.withColumn(\"bonusmalus\", col(\"bonusmalus\").cast(\"string\")) \\\n",
    "                                                    .withColumn(\"rejetco2\", col(\"rejetco2\").cast(\"string\")) \\\n",
    "                                                      .withColumn(\"coutenergie\", col(\"coutenergie\").cast(\"string\"))\n",
    "\n",
    "\n",
    "co2_all_marque_catalogue_tx.show(5)"
   ]
  },
  {
   "cell_type": "markdown",
   "id": "1d0bee4d-e1e9-416a-8529-6b7853dc2036",
   "metadata": {},
   "source": [
    "### Intégration de CO2 dans catalogue"
   ]
  },
  {
   "cell_type": "code",
   "execution_count": 20,
   "id": "6d026be5-2b62-4179-89a8-0514f688994e",
   "metadata": {},
   "outputs": [
    {
     "name": "stdout",
     "output_type": "stream",
     "text": [
      "+---+-----+------+---+-----------+---+---+-----+-----+-----+\n",
      "|_c0|  _c1|   _c2|_c3|        _c4|_c5|_c6|  _c7|  _c8|  _c9|\n",
      "+---+-----+------+---+-----------+---+---+-----+-----+-----+\n",
      "|  1|Volvo|S80 T6|272|très longue|  5|  5|blanc|false|50500|\n",
      "|  2|Volvo|S80 T6|272|très longue|  5|  5| noir|false|50500|\n",
      "|  3|Volvo|S80 T6|272|très longue|  5|  5|rouge|false|50500|\n",
      "|  4|Volvo|S80 T6|272|très longue|  5|  5| gris| true|35350|\n",
      "|  5|Volvo|S80 T6|272|très longue|  5|  5| bleu| true|35350|\n",
      "+---+-----+------+---+-----------+---+---+-----+-----+-----+\n",
      "only showing top 5 rows\n",
      "\n"
     ]
    }
   ],
   "source": [
    "catalogue_hive_df.show(5)"
   ]
  },
  {
   "cell_type": "code",
   "execution_count": 21,
   "id": "b8d4c134-e540-483b-abfc-f148a7dd3dfd",
   "metadata": {},
   "outputs": [],
   "source": [
    "catalogue_co2_df = catalogue_hive_df.\\\n",
    "        join(co2_all_marque_catalogue_tx, \\\n",
    "             catalogue_hive_df[\"_c1\"] == co2_all_marque_catalogue_tx[\"marque\"], \"inner\")"
   ]
  },
  {
   "cell_type": "code",
   "execution_count": 22,
   "id": "a66eca3b-0916-4053-a587-509793f10819",
   "metadata": {},
   "outputs": [
    {
     "name": "stdout",
     "output_type": "stream",
     "text": [
      "+---+-----+------+---+-----------+---+---+-----+-----+-----+------+----------+-----------------+-----------------+\n",
      "|_c0|  _c1|   _c2|_c3|        _c4|_c5|_c6|  _c7|  _c8|  _c9|marque|bonusmalus|         rejetco2|      coutenergie|\n",
      "+---+-----+------+---+-----------+---+---+-----+-----+-----+------+----------+-----------------+-----------------+\n",
      "|  1|Volvo|S80 T6|272|très longue|  5|  5|blanc|false|50500| Volvo|       0.0|42.45454545454545|72.72727272727273|\n",
      "|  2|Volvo|S80 T6|272|très longue|  5|  5| noir|false|50500| Volvo|       0.0|42.45454545454545|72.72727272727273|\n",
      "|  3|Volvo|S80 T6|272|très longue|  5|  5|rouge|false|50500| Volvo|       0.0|42.45454545454545|72.72727272727273|\n",
      "|  4|Volvo|S80 T6|272|très longue|  5|  5| gris| true|35350| Volvo|       0.0|42.45454545454545|72.72727272727273|\n",
      "|  5|Volvo|S80 T6|272|très longue|  5|  5| bleu| true|35350| Volvo|       0.0|42.45454545454545|72.72727272727273|\n",
      "+---+-----+------+---+-----------+---+---+-----+-----+-----+------+----------+-----------------+-----------------+\n",
      "only showing top 5 rows\n",
      "\n"
     ]
    }
   ],
   "source": [
    "catalogue_co2_df.show(5)"
   ]
  },
  {
   "cell_type": "code",
   "execution_count": 23,
   "id": "90cce1d7-6834-4032-bd69-6ddd546ddf97",
   "metadata": {},
   "outputs": [
    {
     "name": "stderr",
     "output_type": "stream",
     "text": [
      "                                                                                \r"
     ]
    },
    {
     "name": "stdout",
     "output_type": "stream",
     "text": [
      "Catalogue :  270\n"
     ]
    }
   ],
   "source": [
    "print(\"Catalogue : \", catalogue_co2_df.count())"
   ]
  },
  {
   "cell_type": "code",
   "execution_count": 24,
   "id": "8d1e411a-82c7-4f6b-b0dd-0835328f0686",
   "metadata": {},
   "outputs": [],
   "source": [
    "catalogue_co2_df = catalogue_co2_df.drop(\"_c1\")"
   ]
  },
  {
   "cell_type": "code",
   "execution_count": 25,
   "id": "5b5fccc1-dc7c-49c8-8b56-95fa0b3abe6c",
   "metadata": {},
   "outputs": [
    {
     "name": "stdout",
     "output_type": "stream",
     "text": [
      "+---+------+---+-----------+---+---+-----+-----+-----+------+----------+-----------------+-----------------+\n",
      "|_c0|   _c2|_c3|        _c4|_c5|_c6|  _c7|  _c8|  _c9|marque|bonusmalus|         rejetco2|      coutenergie|\n",
      "+---+------+---+-----------+---+---+-----+-----+-----+------+----------+-----------------+-----------------+\n",
      "|  1|S80 T6|272|très longue|  5|  5|blanc|false|50500| Volvo|       0.0|42.45454545454545|72.72727272727273|\n",
      "|  2|S80 T6|272|très longue|  5|  5| noir|false|50500| Volvo|       0.0|42.45454545454545|72.72727272727273|\n",
      "|  3|S80 T6|272|très longue|  5|  5|rouge|false|50500| Volvo|       0.0|42.45454545454545|72.72727272727273|\n",
      "|  4|S80 T6|272|très longue|  5|  5| gris| true|35350| Volvo|       0.0|42.45454545454545|72.72727272727273|\n",
      "|  5|S80 T6|272|très longue|  5|  5| bleu| true|35350| Volvo|       0.0|42.45454545454545|72.72727272727273|\n",
      "+---+------+---+-----------+---+---+-----+-----+-----+------+----------+-----------------+-----------------+\n",
      "only showing top 5 rows\n",
      "\n"
     ]
    }
   ],
   "source": [
    "catalogue_co2_df.show(5)"
   ]
  },
  {
   "cell_type": "code",
   "execution_count": 26,
   "id": "dcb8e172-acba-4af0-9c0c-ea64a732ff73",
   "metadata": {},
   "outputs": [
    {
     "name": "stderr",
     "output_type": "stream",
     "text": [
      "                                                                                \r"
     ]
    }
   ],
   "source": [
    "catalogue_co2_df.write.csv(\"/tpa_groupe_14/mapreduce/\", header=False)"
   ]
  },
  {
   "cell_type": "code",
   "execution_count": 27,
   "id": "e5275b54-3ab5-47f6-af4c-5f2ae98b560d",
   "metadata": {},
   "outputs": [],
   "source": [
    "catalogue_hive_df.unpersist()\n",
    "marque_catalogue_df.unpersist()\n",
    "co2_valid_df.unpersist()\n",
    "co2_marque_avg_df.unpersist()\n",
    "co2_all_avg_df.unpersist()\n",
    "spark.stop()"
   ]
  }
 ],
 "metadata": {
  "kernelspec": {
   "display_name": "Python 3 (ipykernel)",
   "language": "python",
   "name": "python3"
  },
  "language_info": {
   "codemirror_mode": {
    "name": "ipython",
    "version": 3
   },
   "file_extension": ".py",
   "mimetype": "text/x-python",
   "name": "python",
   "nbconvert_exporter": "python",
   "pygments_lexer": "ipython3",
   "version": "3.9.18"
  }
 },
 "nbformat": 4,
 "nbformat_minor": 5
}
