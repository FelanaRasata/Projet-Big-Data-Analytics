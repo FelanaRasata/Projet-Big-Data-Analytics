{
 "cells": [
  {
   "cell_type": "code",
   "execution_count": 1,
   "id": "0987817c-fea7-45c8-bc7d-778d05f05c7e",
   "metadata": {},
   "outputs": [
    {
     "name": "stdout",
     "output_type": "stream",
     "text": [
      "Found 1 items\n",
      "-rw-r--r--   1 vagrant supergroup      38918 2024-05-10 08:38 /tpt/data/CO2.csv\n"
     ]
    }
   ],
   "source": [
    "!hadoop fs -ls /tpa_groupe_14/data/"
   ]
  },
  {
   "cell_type": "code",
   "execution_count": null,
   "id": "0c8e76cb",
   "metadata": {},
   "outputs": [
    {
     "name": "stdout",
     "output_type": "stream",
     "text": [
      "Found 1 items\n",
      "-rw-r--r--   1 vagrant supergroup      38916 2024-05-15 11:16 /tpa_groupe_14/data/CO2.csv\n"
     ]
    }
   ],
   "source": [
    "!hadoop fs -ls /tpa_groupe_14/data/"
   ]
  },
  {
   "cell_type": "code",
   "execution_count": null,
   "id": "0dc3696f",
   "metadata": {},
   "outputs": [
    {
     "name": "stderr",
     "output_type": "stream",
     "text": [
      "Setting default log level to \"WARN\".\n",
      "To adjust logging level use sc.setLogLevel(newLevel). For SparkR, use setLogLevel(newLevel).\n"
     ]
    }
   ],
   "source": [
    "from pyspark.sql import SparkSession\n",
    "\n",
    "spark = SparkSession.builder \\\n",
    "    .master(\"local[*]\") \\\n",
    "    .appName(\"TPT-HADOOP_MAP_REDUCE\") \\\n",
    "    .getOrCreate()"
   ]
  },
  {
   "cell_type": "code",
   "execution_count": null,
   "id": "3f2bb920",
   "metadata": {},
   "outputs": [],
   "source": [
    "def load_data_in_csv_file(filename,separator,head):\n",
    "    # This path is based on this instruction `2. Upload all resulting csv files to HDFS.`\n",
    "    df = spark.read.options(delimiter=separator, header=head).csv(filename)\n",
    "\n",
    "    # Display schema and first five rows of the DataFrame\n",
    "    print(\"Schema and first rows in\", filename)\n",
    "    print(\"Count : \",df.count())\n",
    "    df.printSchema()\n",
    "    df.show(5)\n",
    "    \n",
    "    return df"
   ]
  },
  {
   "cell_type": "code",
   "execution_count": null,
   "id": "8c056295",
   "metadata": {},
   "outputs": [
    {
     "name": "stderr",
     "output_type": "stream",
     "text": [
      "                                                                                \r"
     ]
    },
    {
     "name": "stdout",
     "output_type": "stream",
     "text": [
      "Schema and first rows in /tpa_groupe_14/data/CO2.csv\n",
      "Count :  437\n",
      "root\n",
      " |-- _c0: string (nullable = true)\n",
      " |-- Marque / Modele: string (nullable = true)\n",
      " |-- Bonus / Malus: string (nullable = true)\n",
      " |-- Rejets CO2 g/km: string (nullable = true)\n",
      " |-- Cout enerie: string (nullable = true)\n",
      "\n",
      "+---+--------------------+-------------+---------------+-----------+\n",
      "|_c0|     Marque / Modele|Bonus / Malus|Rejets CO2 g/km|Cout enerie|\n",
      "+---+--------------------+-------------+---------------+-----------+\n",
      "|  2|AUDI E-TRON SPORT...|    -6 000€ 1|              0|      319 €|\n",
      "|  3|AUDI E-TRON SPORT...|    -6 000€ 1|              0|      356 €|\n",
      "|  4|AUDI E-TRON 55 (4...|    -6 000€ 1|              0|      357 €|\n",
      "|  5|AUDI E-TRON 50 (3...|    -6 000€ 1|              0|      356 €|\n",
      "|  6|       BMW i3 120 Ah|    -6 000€ 1|              0|      204 €|\n",
      "+---+--------------------+-------------+---------------+-----------+\n",
      "only showing top 5 rows\n",
      "\n"
     ]
    },
    {
     "name": "stderr",
     "output_type": "stream",
     "text": [
      "24/05/15 14:31:14 WARN CSVHeaderChecker: CSV header does not conform to the schema.\n",
      " Header: , Marque / Modele, Bonus / Malus, Rejets CO2 g/km, Cout enerie\n",
      " Schema: _c0, Marque / Modele, Bonus / Malus, Rejets CO2 g/km, Cout enerie\n",
      "Expected: _c0 but found: \n",
      "CSV file: hdfs://localhost:9000/tpa_groupe_14/data/CO2.csv\n"
     ]
    }
   ],
   "source": [
    "# Take the informations in CO2.csv in hdfs\n",
    "co2_hdfs_df = load_data_in_csv_file(\"/tpa_groupe_14/data/CO2.csv\",\",\", True)"
   ]
  },
  {
   "cell_type": "code",
   "execution_count": null,
   "id": "060a4a7f",
   "metadata": {},
   "outputs": [
    {
     "name": "stdout",
     "output_type": "stream",
     "text": [
      "Schema and first rows in /user/hive/warehouse/catalogue_hive\n",
      "Count :  20\n",
      "root\n",
      " |-- _c0: string (nullable = true)\n",
      " |-- _c1: string (nullable = true)\n",
      " |-- _c2: string (nullable = true)\n",
      " |-- _c3: string (nullable = true)\n",
      " |-- _c4: string (nullable = true)\n",
      " |-- _c5: string (nullable = true)\n",
      " |-- _c6: string (nullable = true)\n",
      " |-- _c7: string (nullable = true)\n",
      " |-- _c8: string (nullable = true)\n",
      " |-- _c9: string (nullable = true)\n",
      "\n",
      "+---+----+----------+---+-------+---+---+-----+-----+-----+\n",
      "|_c0| _c1|       _c2|_c3|    _c4|_c5|_c6|  _c7|  _c8|  _c9|\n",
      "+---+----+----------+---+-------+---+---+-----+-----+-----+\n",
      "| 10|Audi|A3 2.0 FSI|150|moyenne|  5|  5|rouge|false|28500|\n",
      "|  4|Audi|A3 2.0 FSI|150|moyenne|  5|  5|blanc|false|28500|\n",
      "|  2|Audi|A3 2.0 FSI|150|moyenne|  5|  5| noir|false|28500|\n",
      "|  5|Audi|A3 2.0 FSI|150|moyenne|  5|  5|blanc| true|19950|\n",
      "|  7|Audi|A3 2.0 FSI|150|moyenne|  5|  5| bleu|false|28500|\n",
      "+---+----+----------+---+-------+---+---+-----+-----+-----+\n",
      "only showing top 5 rows\n",
      "\n"
     ]
    },
    {
     "data": {
      "text/plain": [
       "DataFrame[_c0: string, _c1: string, _c2: string, _c3: string, _c4: string, _c5: string, _c6: string, _c7: string, _c8: string, _c9: string]"
      ]
     },
     "metadata": {},
     "output_type": "display_data"
    }
   ],
   "source": [
    "# Take the informations in catalogue in hive table file\n",
    "catalogue_hive_df = load_data_in_csv_file(\"/user/hive/warehouse/catalogue_hive\",'\\t',False)\n",
    "catalogue_hive_df.cache()"
   ]
  },
  {
   "cell_type": "code",
   "execution_count": null,
   "id": "c95aca34",
   "metadata": {},
   "outputs": [],
   "source": [
    "from pyspark.sql.functions import col\n",
    "\n",
    "# Select all the \"marque\" present in the catalogue\n",
    "marque_catalogue_df = catalogue_hive_df.select(col(\"_c1\")).distinct()"
   ]
  },
  {
   "cell_type": "code",
   "execution_count": null,
   "id": "84faefe7",
   "metadata": {},
   "outputs": [
    {
     "name": "stderr",
     "output_type": "stream",
     "text": [
      "[Stage 10:>                                                         (0 + 2) / 2]\r"
     ]
    },
    {
     "name": "stdout",
     "output_type": "stream",
     "text": [
      "+------+\n",
      "|Marque|\n",
      "+------+\n",
      "|  Audi|\n",
      "|   BMW|\n",
      "+------+\n",
      "\n"
     ]
    },
    {
     "name": "stderr",
     "output_type": "stream",
     "text": [
      "                                                                                \r"
     ]
    },
    {
     "data": {
      "text/plain": [
       "DataFrame[Marque: string]"
      ]
     },
     "metadata": {},
     "output_type": "display_data"
    }
   ],
   "source": [
    "# Rename \"_c1\" into \"Marque\"\n",
    "marque_catalogue_df = marque_catalogue_df.withColumnRenamed(\"_c1\", \"Marque\")\n",
    "marque_catalogue_df.show(5)\n",
    "# Store all the \"marque\" in catalogue\n",
    "marque_catalogue_df.cache()"
   ]
  },
  {
   "cell_type": "code",
   "execution_count": null,
   "id": "ae34315b",
   "metadata": {},
   "outputs": [],
   "source": [
    "from pyspark.sql.functions import lower\n",
    "\n",
    "# Take the \"marque\" in Catalogue and put it in \"CO2\" \n",
    "# Drop the column \"Marque / Modele\"\n",
    "join_df = co2_hdfs_df.join(marque_catalogue_df, lower(co2_hdfs_df[\"Marque / Modele\"]).\\\n",
    "                                  contains(lower(marque_catalogue_df[\"Marque\"])), \"inner\")\n",
    "\n",
    "co2_marque_df = join_df.drop(\"Marque / Modele\")"
   ]
  },
  {
   "cell_type": "code",
   "execution_count": null,
   "id": "37554dae",
   "metadata": {},
   "outputs": [
    {
     "name": "stdout",
     "output_type": "stream",
     "text": [
      "+---+-------------+---------------+-----------+------+\n",
      "|_c0|Bonus / Malus|Rejets CO2 g/km|Cout enerie|Marque|\n",
      "+---+-------------+---------------+-----------+------+\n",
      "|  2|    -6 000€ 1|              0|      319 €|  Audi|\n",
      "|  3|    -6 000€ 1|              0|      356 €|  Audi|\n",
      "|  4|    -6 000€ 1|              0|      357 €|  Audi|\n",
      "|  5|    -6 000€ 1|              0|      356 €|  Audi|\n",
      "|  6|    -6 000€ 1|              0|      204 €|   BMW|\n",
      "+---+-------------+---------------+-----------+------+\n",
      "only showing top 5 rows\n",
      "\n"
     ]
    },
    {
     "name": "stderr",
     "output_type": "stream",
     "text": [
      "24/05/15 15:14:54 WARN CSVHeaderChecker: CSV header does not conform to the schema.\n",
      " Header: , Marque / Modele, Bonus / Malus, Rejets CO2 g/km, Cout enerie\n",
      " Schema: _c0, Marque / Modele, Bonus / Malus, Rejets CO2 g/km, Cout enerie\n",
      "Expected: _c0 but found: \n",
      "CSV file: hdfs://localhost:9000/tpa_groupe_14/data/CO2.csv\n"
     ]
    }
   ],
   "source": [
    "co2_marque_df.show(5)"
   ]
  },
  {
   "cell_type": "code",
   "execution_count": null,
   "id": "f6a44533",
   "metadata": {},
   "outputs": [],
   "source": [
    "from pyspark.sql.functions import udf\n",
    "from pyspark.sql.types import StringType\n",
    "\n",
    "# Function to fix the value of \"Bonus / Malus\" and \"Cout enerie\"\n",
    "# Convert it in number\n",
    "def clean_number(value):\n",
    "    string_value = value\n",
    "    if '-' in value and '€' not in value:\n",
    "        return 0\n",
    "    if '€' in value :\n",
    "        string_value = value.split(\"€\", 1)[0]\n",
    "    number = ''.join(filter(lambda x: x.isdigit() or x == '-' or x == '+', string_value))\n",
    "    return int(number) if number else 0\n",
    "\n",
    "clean_value_udf = udf(clean_number, StringType())\n",
    "\n",
    "co2_valid_df = co2_marque_df.\\\n",
    "                    withColumn(\"Bonus / Malus\", clean_value_udf(co2_marque_df[\"Bonus / Malus\"])).\\\n",
    "                    withColumn(\"Cout enerie\", clean_value_udf(co2_marque_df[\"Cout enerie\"]))"
   ]
  },
  {
   "cell_type": "code",
   "execution_count": null,
   "id": "b8ee4fed",
   "metadata": {},
   "outputs": [
    {
     "name": "stderr",
     "output_type": "stream",
     "text": [
      "24/05/15 15:15:34 WARN CSVHeaderChecker: CSV header does not conform to the schema.\n",
      " Header: , Marque / Modele, Bonus / Malus, Rejets CO2 g/km, Cout enerie\n",
      " Schema: _c0, Marque / Modele, Bonus / Malus, Rejets CO2 g/km, Cout enerie\n",
      "Expected: _c0 but found: \n",
      "CSV file: hdfs://localhost:9000/tpa_groupe_14/data/CO2.csv\n"
     ]
    },
    {
     "name": "stdout",
     "output_type": "stream",
     "text": [
      "+---+-------------+---------------+-----------+------+\n",
      "|_c0|Bonus / Malus|Rejets CO2 g/km|Cout enerie|Marque|\n",
      "+---+-------------+---------------+-----------+------+\n",
      "|  2|        -6000|              0|        319|  Audi|\n",
      "|  3|        -6000|              0|        356|  Audi|\n",
      "|  4|        -6000|              0|        357|  Audi|\n",
      "|  5|        -6000|              0|        356|  Audi|\n",
      "|  6|        -6000|              0|        204|   BMW|\n",
      "+---+-------------+---------------+-----------+------+\n",
      "only showing top 5 rows\n",
      "\n"
     ]
    },
    {
     "name": "stderr",
     "output_type": "stream",
     "text": [
      "                                                                                \r"
     ]
    }
   ],
   "source": [
    "co2_valid_df.cache()\n",
    "co2_valid_df.show(5)"
   ]
  },
  {
   "cell_type": "code",
   "execution_count": null,
   "id": "b06bc755",
   "metadata": {},
   "outputs": [],
   "source": [
    "from pyspark.sql.functions import avg\n",
    "\n",
    "# Calcul the average of \"Bonus / Malus\" , \"Rejets CO2 g/km\", \"Cout enerie\" group by \"Marque\"\n",
    "co2_marque_avg_df = co2_valid_df.groupBy(\"Marque\") \\\n",
    "                                   .agg(avg(\"Bonus / Malus\").alias(\"Bonus / Malus\"), \\\n",
    "                                        avg(\"Rejets CO2 g/km\").alias(\"Rejets CO2 g/km\"), \\\n",
    "                                        avg(\"Cout enerie\").alias(\"Cout enerie\"))"
   ]
  },
  {
   "cell_type": "code",
   "execution_count": null,
   "id": "3757a8bb",
   "metadata": {},
   "outputs": [],
   "source": [
    "# Calcul the average of \"Bonus / Malus\" , \"Rejets CO2 g/km\", \"Cout enerie\" of all lines\n",
    "co2_all_avg_df = co2_valid_df.select(avg(\"Bonus / Malus\").alias(\"Bonus / Malus\"),\\\n",
    "                           avg(\"Rejets CO2 g/km\").alias(\"Rejets CO2 g/km\"),\\\n",
    "                           avg(\"Cout enerie\").alias(\"Cout enerie\"))\n"
   ]
  },
  {
   "cell_type": "code",
   "execution_count": null,
   "id": "a79d5675",
   "metadata": {},
   "outputs": [
    {
     "name": "stdout",
     "output_type": "stream",
     "text": [
      "Average by 'Marque'\n",
      "+------+-----------------+-----------------+-----------------+\n",
      "|Marque|    Bonus / Malus|  Rejets CO2 g/km|      Cout enerie|\n",
      "+------+-----------------+-----------------+-----------------+\n",
      "|  Audi|          -2400.0|             26.1|            191.6|\n",
      "|   BMW|-631.578947368421|39.26315789473684|80.52631578947368|\n",
      "+------+-----------------+-----------------+-----------------+\n",
      "\n",
      "Average of all 'Marque'\n",
      "+-------------------+------------------+------------------+\n",
      "|      Bonus / Malus|   Rejets CO2 g/km|       Cout enerie|\n",
      "+-------------------+------------------+------------------+\n",
      "|-1241.3793103448277|34.724137931034484|118.82758620689656|\n",
      "+-------------------+------------------+------------------+\n",
      "\n"
     ]
    },
    {
     "data": {
      "text/plain": [
       "DataFrame[Bonus / Malus: double, Rejets CO2 g/km: double, Cout enerie: double]"
      ]
     },
     "metadata": {},
     "output_type": "display_data"
    }
   ],
   "source": [
    "# Display the result\n",
    "print(\"Average by 'Marque'\")\n",
    "co2_marque_avg_df.show(5)\n",
    "\n",
    "print(\"Average of all 'Marque'\")\n",
    "co2_all_avg_df.show()\n",
    "\n",
    "co2_marque_avg_df.cache()\n",
    "co2_all_avg_df.cache()"
   ]
  },
  {
   "cell_type": "code",
   "execution_count": null,
   "id": "c1c78a5d",
   "metadata": {},
   "outputs": [
    {
     "name": "stdout",
     "output_type": "stream",
     "text": [
      "Marque not in CO2 but in Cataloque: \n",
      "+------+\n",
      "|Marque|\n",
      "+------+\n",
      "+------+\n",
      "\n"
     ]
    }
   ],
   "source": [
    "# Selecct \"Marque\" in \"Catatalogue\" but not in \"CO2\"\n",
    "marque_only_catalogue_df = marque_catalogue_df\\\n",
    "                    .join(co2_marque_avg_df, marque_catalogue_df[\"Marque\"] == co2_marque_avg_df[\"Marque\"], \"left_anti\")\n",
    "print(\"Marque not in CO2 but in Cataloque: \")\n",
    "marque_only_catalogue_df.show(5)"
   ]
  },
  {
   "cell_type": "code",
   "execution_count": null,
   "id": "3c7e7881",
   "metadata": {},
   "outputs": [],
   "source": [
    "# Create CO2 for marque not in CO2 \n",
    "co2_marque_catalogue_avg_df = marque_only_catalogue_df.crossJoin(co2_all_avg_df)"
   ]
  },
  {
   "cell_type": "code",
   "execution_count": null,
   "id": "2f264dbd",
   "metadata": {},
   "outputs": [
    {
     "name": "stdout",
     "output_type": "stream",
     "text": [
      "+------+-----------------+-----------------+-----------------+\n",
      "|marque|       bonusmalus|         rejetco2|      coutenergie|\n",
      "+------+-----------------+-----------------+-----------------+\n",
      "|  Audi|          -2400.0|             26.1|            191.6|\n",
      "|   BMW|-631.578947368421|39.26315789473684|80.52631578947368|\n",
      "+------+-----------------+-----------------+-----------------+\n",
      "\n"
     ]
    }
   ],
   "source": [
    "# Union all CO2 line\n",
    "co2_all_marque_catalogue = co2_marque_avg_df.union(co2_marque_catalogue_avg_df)\n",
    "\n",
    "# Rename column\n",
    "co2_all_marque_catalogue = co2_all_marque_catalogue.withColumnRenamed(\"Marque\", \"marque\")\n",
    "co2_all_marque_catalogue = co2_all_marque_catalogue.withColumnRenamed(\"Bonus / Malus\", \"bonusmalus\")\n",
    "co2_all_marque_catalogue = co2_all_marque_catalogue.withColumnRenamed(\"Rejets CO2 g/km\", \"rejetco2\")\n",
    "co2_all_marque_catalogue = co2_all_marque_catalogue.withColumnRenamed(\"Cout enerie\", \"coutenergie\")\n",
    "\n",
    "co2_all_marque_catalogue.show(5)"
   ]
  },
  {
   "cell_type": "code",
   "execution_count": null,
   "id": "d0b6b670",
   "metadata": {},
   "outputs": [
    {
     "name": "stdout",
     "output_type": "stream",
     "text": [
      "+------+-----------------+-----------------+-----------------+\n",
      "|marque|       bonusmalus|         rejetco2|      coutenergie|\n",
      "+------+-----------------+-----------------+-----------------+\n",
      "|  Audi|          -2400.0|             26.1|            191.6|\n",
      "|   BMW|-631.578947368421|39.26315789473684|80.52631578947368|\n",
      "+------+-----------------+-----------------+-----------------+\n",
      "\n"
     ]
    }
   ],
   "source": [
    "co2_all_marque_catalogue_tx = co2_all_marque_catalogue.withColumn(\"bonusmalus\", col(\"bonusmalus\").cast(\"string\")) \\\n",
    "                                                    .withColumn(\"rejetco2\", col(\"rejetco2\").cast(\"string\")) \\\n",
    "                                                      .withColumn(\"coutenergie\", col(\"coutenergie\").cast(\"string\"))\n",
    "\n",
    "\n",
    "co2_all_marque_catalogue_tx.show(5)"
   ]
  },
  {
   "cell_type": "code",
   "execution_count": null,
   "id": "ff62d1b6",
   "metadata": {},
   "outputs": [
    {
     "name": "stdout",
     "output_type": "stream",
     "text": [
      "+---+----+----------+---+-------+---+---+-----+-----+-----+\n",
      "|_c0| _c1|       _c2|_c3|    _c4|_c5|_c6|  _c7|  _c8|  _c9|\n",
      "+---+----+----------+---+-------+---+---+-----+-----+-----+\n",
      "| 10|Audi|A3 2.0 FSI|150|moyenne|  5|  5|rouge|false|28500|\n",
      "|  4|Audi|A3 2.0 FSI|150|moyenne|  5|  5|blanc|false|28500|\n",
      "|  2|Audi|A3 2.0 FSI|150|moyenne|  5|  5| noir|false|28500|\n",
      "|  5|Audi|A3 2.0 FSI|150|moyenne|  5|  5|blanc| true|19950|\n",
      "|  7|Audi|A3 2.0 FSI|150|moyenne|  5|  5| bleu|false|28500|\n",
      "+---+----+----------+---+-------+---+---+-----+-----+-----+\n",
      "only showing top 5 rows\n",
      "\n"
     ]
    }
   ],
   "source": [
    "catalogue_hive_df.show(5)"
   ]
  },
  {
   "cell_type": "code",
   "execution_count": null,
   "id": "b7f605c8",
   "metadata": {},
   "outputs": [],
   "source": [
    "catalogue_co2_df = catalogue_hive_df.\\\n",
    "        join(co2_all_marque_catalogue_tx, \\\n",
    "             catalogue_hive_df[\"_c1\"] == co2_all_marque_catalogue_tx[\"marque\"], \"inner\")"
   ]
  },
  {
   "cell_type": "code",
   "execution_count": null,
   "id": "ec0051b3",
   "metadata": {},
   "outputs": [
    {
     "name": "stdout",
     "output_type": "stream",
     "text": [
      "+---+----+----------+---+-------+---+---+-----+-----+-----+------+----------+--------+-----------+\n",
      "|_c0| _c1|       _c2|_c3|    _c4|_c5|_c6|  _c7|  _c8|  _c9|marque|bonusmalus|rejetco2|coutenergie|\n",
      "+---+----+----------+---+-------+---+---+-----+-----+-----+------+----------+--------+-----------+\n",
      "| 10|Audi|A3 2.0 FSI|150|moyenne|  5|  5|rouge|false|28500|  Audi|   -2400.0|    26.1|      191.6|\n",
      "|  4|Audi|A3 2.0 FSI|150|moyenne|  5|  5|blanc|false|28500|  Audi|   -2400.0|    26.1|      191.6|\n",
      "|  2|Audi|A3 2.0 FSI|150|moyenne|  5|  5| noir|false|28500|  Audi|   -2400.0|    26.1|      191.6|\n",
      "|  5|Audi|A3 2.0 FSI|150|moyenne|  5|  5|blanc| true|19950|  Audi|   -2400.0|    26.1|      191.6|\n",
      "|  7|Audi|A3 2.0 FSI|150|moyenne|  5|  5| bleu|false|28500|  Audi|   -2400.0|    26.1|      191.6|\n",
      "+---+----+----------+---+-------+---+---+-----+-----+-----+------+----------+--------+-----------+\n",
      "only showing top 5 rows\n",
      "\n"
     ]
    }
   ],
   "source": [
    "catalogue_co2_df.show(5)"
   ]
  },
  {
   "cell_type": "code",
   "execution_count": null,
   "id": "fd972314",
   "metadata": {},
   "outputs": [],
   "source": [
    "catalogue_co2_df = catalogue_co2_df.drop(\"_c1\")"
   ]
  },
  {
   "cell_type": "code",
   "execution_count": null,
   "id": "4a974b41",
   "metadata": {},
   "outputs": [
    {
     "name": "stdout",
     "output_type": "stream",
     "text": [
      "+---+----------+---+-------+---+---+-----+-----+-----+------+----------+--------+-----------+\n",
      "|_c0|       _c2|_c3|    _c4|_c5|_c6|  _c7|  _c8|  _c9|marque|bonusmalus|rejetco2|coutenergie|\n",
      "+---+----------+---+-------+---+---+-----+-----+-----+------+----------+--------+-----------+\n",
      "| 10|A3 2.0 FSI|150|moyenne|  5|  5|rouge|false|28500|  Audi|   -2400.0|    26.1|      191.6|\n",
      "|  4|A3 2.0 FSI|150|moyenne|  5|  5|blanc|false|28500|  Audi|   -2400.0|    26.1|      191.6|\n",
      "|  2|A3 2.0 FSI|150|moyenne|  5|  5| noir|false|28500|  Audi|   -2400.0|    26.1|      191.6|\n",
      "|  5|A3 2.0 FSI|150|moyenne|  5|  5|blanc| true|19950|  Audi|   -2400.0|    26.1|      191.6|\n",
      "|  7|A3 2.0 FSI|150|moyenne|  5|  5| bleu|false|28500|  Audi|   -2400.0|    26.1|      191.6|\n",
      "+---+----------+---+-------+---+---+-----+-----+-----+------+----------+--------+-----------+\n",
      "only showing top 5 rows\n",
      "\n"
     ]
    }
   ],
   "source": [
    "catalogue_co2_df.show(5)"
   ]
  },
  {
   "cell_type": "code",
   "execution_count": null,
   "id": "d97c9ef6",
   "metadata": {},
   "outputs": [
    {
     "name": "stderr",
     "output_type": "stream",
     "text": [
      "                                                                                \r"
     ]
    }
   ],
   "source": [
    "catalogue_co2_df.write.csv(\"/tpa_groupe_14/mapreduce/\", header=False)"
   ]
  },
  {
   "cell_type": "code",
   "execution_count": null,
   "id": "a1753c64",
   "metadata": {},
   "outputs": [],
   "source": [
    "catalogue_hive_df.unpersist()\n",
    "marque_catalogue_df.unpersist()\n",
    "co2_valid_df.unpersist()\n",
    "spark.stop()"
   ]
  },
  {
   "cell_type": "code",
   "execution_count": null,
   "id": "a3033ca2",
   "metadata": {},
   "outputs": [],
   "source": []
  },
  {
   "cell_type": "code",
   "execution_count": 2,
   "id": "926a4f87-f7a1-4954-805b-dfc9f28f28bc",
   "metadata": {},
   "outputs": [
    {
     "name": "stderr",
     "output_type": "stream",
     "text": [
      "Setting default log level to \"WARN\".\n",
      "To adjust logging level use sc.setLogLevel(newLevel). For SparkR, use setLogLevel(newLevel).\n"
     ]
    }
   ],
   "source": [
    "from pyspark.sql import SparkSession\n",
    "\n",
    "spark = SparkSession.builder \\\n",
    "    .master(\"local[*]\") \\\n",
    "    .appName(\"TPT-HADOOP_MAP_REDUCE\") \\\n",
    "    .getOrCreate()"
   ]
  },
  {
   "cell_type": "code",
   "execution_count": 3,
   "id": "acf9f668-4ba9-42f0-aa97-c2ad665d095f",
   "metadata": {},
   "outputs": [],
   "source": [
    "def load_data_in_csv_file(filename,separator,head):\n",
    "    # This path is based on this instruction `2. Upload all resulting csv files to HDFS.`\n",
    "    df = spark.read.options(delimiter=separator, header=head).csv(filename)\n",
    "\n",
    "    # Display schema and first five rows of the DataFrame\n",
    "    print(\"Schema and first rows in\", filename)\n",
    "    print(\"Count : \",df.count())\n",
    "    df.printSchema()\n",
    "    df.show(5)\n",
    "    \n",
    "    return df"
   ]
  },
  {
   "cell_type": "code",
   "execution_count": 4,
   "id": "a8f52259-90b8-4b47-a5cd-9bee00291e8c",
   "metadata": {},
   "outputs": [
    {
     "name": "stderr",
     "output_type": "stream",
     "text": [
      "                                                                                \r"
     ]
    },
    {
     "name": "stdout",
     "output_type": "stream",
     "text": [
      "Schema and first rows in /tpt/data/CO2.csv\n",
      "Count :  437\n",
      "root\n",
      " |-- id: string (nullable = true)\n",
      " |-- Marque / Modele: string (nullable = true)\n",
      " |-- Bonus / Malus: string (nullable = true)\n",
      " |-- Rejets CO2 g/km: string (nullable = true)\n",
      " |-- Cout enerie: string (nullable = true)\n",
      "\n",
      "+---+--------------------+-------------+---------------+-----------+\n",
      "| id|     Marque / Modele|Bonus / Malus|Rejets CO2 g/km|Cout enerie|\n",
      "+---+--------------------+-------------+---------------+-----------+\n",
      "|  2|AUDI E-TRON SPORT...|    -6 000€ 1|              0|      319 €|\n",
      "|  3|AUDI E-TRON SPORT...|    -6 000€ 1|              0|      356 €|\n",
      "|  4|AUDI E-TRON 55 (4...|    -6 000€ 1|              0|      357 €|\n",
      "|  5|AUDI E-TRON 50 (3...|    -6 000€ 1|              0|      356 €|\n",
      "|  6|       BMW i3 120 Ah|    -6 000€ 1|              0|      204 €|\n",
      "+---+--------------------+-------------+---------------+-----------+\n",
      "only showing top 5 rows\n",
      "\n"
     ]
    }
   ],
   "source": [
    "# Take the informations in CO2.csv in hdfs\n",
    "co2_hdfs_df = load_data_in_csv_file(\"/tpt/data/CO2.csv\",\",\", True)"
   ]
  },
  {
   "cell_type": "code",
   "execution_count": 5,
   "id": "febceb9f-2741-4696-831e-a8b040d052aa",
   "metadata": {},
   "outputs": [
    {
     "name": "stderr",
     "output_type": "stream",
     "text": [
      "                                                                                \r"
     ]
    },
    {
     "name": "stdout",
     "output_type": "stream",
     "text": [
      "Schema and first rows in /user/hive/warehouse/catalogue_hive\n"
     ]
    },
    {
     "name": "stderr",
     "output_type": "stream",
     "text": [
      "                                                                                \r"
     ]
    },
    {
     "name": "stdout",
     "output_type": "stream",
     "text": [
      "Count :  270\n",
      "root\n",
      " |-- _c0: string (nullable = true)\n",
      " |-- _c1: string (nullable = true)\n",
      " |-- _c2: string (nullable = true)\n",
      " |-- _c3: string (nullable = true)\n",
      " |-- _c4: string (nullable = true)\n",
      " |-- _c5: string (nullable = true)\n",
      " |-- _c6: string (nullable = true)\n",
      " |-- _c7: string (nullable = true)\n",
      " |-- _c8: string (nullable = true)\n",
      " |-- _c9: string (nullable = true)\n",
      "\n",
      "+---+-------+----------------+---+-----------+---+---+-----+-----+-----+\n",
      "|_c0|    _c1|             _c2|_c3|        _c4|_c5|_c6|  _c7|  _c8|  _c9|\n",
      "+---+-------+----------------+---+-----------+---+---+-----+-----+-----+\n",
      "| 77|Renault|Vel Satis 3.5 V6|245|tr�s longue|  5|  5|blanc|false|49200|\n",
      "| 79|Renault|Vel Satis 3.5 V6|245|tr�s longue|  5|  5|rouge|false|49200|\n",
      "| 74|Renault|Vel Satis 3.5 V6|245|tr�s longue|  5|  5|blanc| true|34440|\n",
      "| 75|Renault|Vel Satis 3.5 V6|245|tr�s longue|  5|  5| gris|false|49200|\n",
      "| 76|Renault|Vel Satis 3.5 V6|245|tr�s longue|  5|  5| bleu|false|49200|\n",
      "+---+-------+----------------+---+-----------+---+---+-----+-----+-----+\n",
      "only showing top 5 rows\n",
      "\n"
     ]
    }
   ],
   "source": [
    "# Take the informations in catalogue in hive table file\n",
    "catalogue_hive_df = load_data_in_csv_file(\"/user/hive/warehouse/catalogue_hive\",'\\t',False)\n",
    "catalogue_hive_df.cache()"
   ]
  },
  {
   "cell_type": "code",
   "execution_count": 6,
   "id": "8422a070-a834-40db-94c4-33407831e9da",
   "metadata": {},
   "outputs": [],
   "source": [
    "from pyspark.sql.functions import col\n",
    "\n",
    "# Select all the \"marque\" present in the catalogue\n",
    "marque_catalogue_df = catalogue_hive_df.select(col(\"_c1\")).distinct()"
   ]
  },
  {
   "cell_type": "code",
   "execution_count": 7,
   "id": "be0c861c-a4bd-44fe-b8cb-9a5144b24129",
   "metadata": {},
   "outputs": [
    {
     "name": "stderr",
     "output_type": "stream",
     "text": [
      "                                                                                \r"
     ]
    },
    {
     "name": "stdout",
     "output_type": "stream",
     "text": [
      "+----------+\n",
      "|    Marque|\n",
      "+----------+\n",
      "|Volkswagen|\n",
      "|   Renault|\n",
      "|     Skoda|\n",
      "|    Nissan|\n",
      "|    Lancia|\n",
      "|  Mercedes|\n",
      "|    Jaguar|\n",
      "|      Mini|\n",
      "|   Hyunda�|\n",
      "|     Volvo|\n",
      "|     Dacia|\n",
      "|      Audi|\n",
      "|  Daihatsu|\n",
      "|   Peugeot|\n",
      "|     Honda|\n",
      "|      Fiat|\n",
      "|      Ford|\n",
      "|       Kia|\n",
      "|      Seat|\n",
      "|       BMW|\n",
      "+----------+\n",
      "only showing top 20 rows\n",
      "\n"
     ]
    },
    {
     "data": {
      "text/plain": [
       "DataFrame[Marque: string]"
      ]
     },
     "execution_count": 7,
     "metadata": {},
     "output_type": "execute_result"
    }
   ],
   "source": [
    "# Rename \"_c1\" into \"Marque\"\n",
    "marque_catalogue_df = marque_catalogue_df.withColumnRenamed(\"_c1\", \"Marque\")\n",
    "marque_catalogue_df.show(5)\n",
    "# Store all the \"marque\" in catalogue\n",
    "marque_catalogue_df.cache()"
   ]
  },
  {
   "cell_type": "code",
   "execution_count": 9,
   "id": "6325e783-4f9c-4eba-944b-a2e2b13480a3",
   "metadata": {},
   "outputs": [],
   "source": [
    "from pyspark.sql.functions import lower\n",
    "\n",
    "# Take the \"marque\" in Catalogue and put it in \"CO2\" \n",
    "# Drop the column \"Marque / Modele\"\n",
    "join_df = co2_hdfs_df.join(marque_catalogue_df, lower(co2_hdfs_df[\"Marque / Modele\"]).\\\n",
    "                                  contains(lower(marque_catalogue_df[\"Marque\"])), \"inner\")\n",
    "\n",
    "co2_marque_df = join_df.drop(\"Marque / Modele\")"
   ]
  },
  {
   "cell_type": "code",
   "execution_count": 10,
   "id": "d206a98b-ddf6-4de2-a7fd-46b48105dc6f",
   "metadata": {},
   "outputs": [
    {
     "name": "stderr",
     "output_type": "stream",
     "text": [
      "[Stage 14:===================================================>      (8 + 1) / 9]\r"
     ]
    },
    {
     "name": "stdout",
     "output_type": "stream",
     "text": [
      "+---+-------------+---------------+-----------+--------+\n",
      "| id|Bonus / Malus|Rejets CO2 g/km|Cout enerie|  Marque|\n",
      "+---+-------------+---------------+-----------+--------+\n",
      "|  2|    -6 000€ 1|              0|      319 €|    Audi|\n",
      "|  3|    -6 000€ 1|              0|      356 €|    Audi|\n",
      "|  4|    -6 000€ 1|              0|      357 €|    Audi|\n",
      "|  5|    -6 000€ 1|              0|      356 €|    Audi|\n",
      "|  6|    -6 000€ 1|              0|      204 €|     BMW|\n",
      "|  7|    -6 000€ 1|              0|      204 €|     BMW|\n",
      "| 13|    -6 000€ 1|              0|      271 €|  Jaguar|\n",
      "| 14|    -6 000€ 1|              0|      212 €|     Kia|\n",
      "| 15|    -6 000€ 1|              0|      203 €|     Kia|\n",
      "| 16|    -6 000€ 1|              0|      214 €|     Kia|\n",
      "| 17|    -6 000€ 1|              0|      214 €|     Kia|\n",
      "| 18|    -6 000€ 1|              0|      291 €|Mercedes|\n",
      "| 19|    -6 000€ 1|              0|      411 €|Mercedes|\n",
      "| 20|    -6 000€ 1|              0|      411 €|Mercedes|\n",
      "| 21|    -6 000€ 1|              0|      199 €|    Mini|\n",
      "| 23|    -6 000€ 1|              0|      155 €|  Nissan|\n",
      "| 24|    -6 000€ 1|              0|      177 €|  Nissan|\n",
      "| 25|    -6 000€ 1|              0|      221 €| Peugeot|\n",
      "| 26|    -6 000€ 1|              0|      241 €| Peugeot|\n",
      "| 27|    -6 000€ 1|              0|      203 €| Peugeot|\n",
      "+---+-------------+---------------+-----------+--------+\n",
      "only showing top 20 rows\n",
      "\n"
     ]
    },
    {
     "name": "stderr",
     "output_type": "stream",
     "text": [
      "                                                                                \r"
     ]
    }
   ],
   "source": [
    "co2_marque_df.show(5)"
   ]
  },
  {
   "cell_type": "code",
   "execution_count": 11,
   "id": "6c853896-a878-422e-b518-1970d441bf8b",
   "metadata": {},
   "outputs": [],
   "source": [
    "from pyspark.sql.functions import udf\n",
    "from pyspark.sql.types import StringType\n",
    "\n",
    "# Function to fix the value of \"Bonus / Malus\" and \"Cout enerie\"\n",
    "# Convert it in number\n",
    "def clean_number(value):\n",
    "    string_value = value\n",
    "    if '-' in value and '€' not in value:\n",
    "        return 0\n",
    "    if '€' in value :\n",
    "        string_value = value.split(\"€\", 1)[0]\n",
    "    number = ''.join(filter(lambda x: x.isdigit() or x == '-' or x == '+', string_value))\n",
    "    return int(number) if number else 0\n",
    "\n",
    "clean_value_udf = udf(clean_number, StringType())\n",
    "\n",
    "co2_valid_df = co2_marque_df.\\\n",
    "                    withColumn(\"Bonus / Malus\", clean_value_udf(co2_marque_df[\"Bonus / Malus\"])).\\\n",
    "                    withColumn(\"Cout enerie\", clean_value_udf(co2_marque_df[\"Cout enerie\"]))"
   ]
  },
  {
   "cell_type": "code",
   "execution_count": 12,
   "id": "8ca3f16c-12c9-4a56-913f-7f5f6cbbd0d7",
   "metadata": {},
   "outputs": [
    {
     "name": "stderr",
     "output_type": "stream",
     "text": [
      "[Stage 22:>                                                         (0 + 1) / 1]\r"
     ]
    },
    {
     "name": "stdout",
     "output_type": "stream",
     "text": [
      "+---+-------------+---------------+-----------+--------+\n",
      "| id|Bonus / Malus|Rejets CO2 g/km|Cout enerie|  Marque|\n",
      "+---+-------------+---------------+-----------+--------+\n",
      "|  2|        -6000|              0|        319|    Audi|\n",
      "|  3|        -6000|              0|        356|    Audi|\n",
      "|  4|        -6000|              0|        357|    Audi|\n",
      "|  5|        -6000|              0|        356|    Audi|\n",
      "|  6|        -6000|              0|        204|     BMW|\n",
      "|  7|        -6000|              0|        204|     BMW|\n",
      "| 13|        -6000|              0|        271|  Jaguar|\n",
      "| 14|        -6000|              0|        212|     Kia|\n",
      "| 15|        -6000|              0|        203|     Kia|\n",
      "| 16|        -6000|              0|        214|     Kia|\n",
      "| 17|        -6000|              0|        214|     Kia|\n",
      "| 18|        -6000|              0|        291|Mercedes|\n",
      "| 19|        -6000|              0|        411|Mercedes|\n",
      "| 20|        -6000|              0|        411|Mercedes|\n",
      "| 21|        -6000|              0|        199|    Mini|\n",
      "| 23|        -6000|              0|        155|  Nissan|\n",
      "| 24|        -6000|              0|        177|  Nissan|\n",
      "| 25|        -6000|              0|        221| Peugeot|\n",
      "| 26|        -6000|              0|        241| Peugeot|\n",
      "| 27|        -6000|              0|        203| Peugeot|\n",
      "+---+-------------+---------------+-----------+--------+\n",
      "only showing top 20 rows\n",
      "\n"
     ]
    },
    {
     "name": "stderr",
     "output_type": "stream",
     "text": [
      "                                                                                \r"
     ]
    }
   ],
   "source": [
    "co2_valid_df.cache()\n",
    "co2_valid_df.show(5)"
   ]
  },
  {
   "cell_type": "code",
   "execution_count": 13,
   "id": "6bd0887a-4376-4c1e-9629-15ad5df2705c",
   "metadata": {},
   "outputs": [],
   "source": [
    "from pyspark.sql.functions import avg\n",
    "\n",
    "# Calcul the average of \"Bonus / Malus\" , \"Rejets CO2 g/km\", \"Cout enerie\" group by \"Marque\"\n",
    "co2_marque_avg_df = co2_valid_df.groupBy(\"Marque\") \\\n",
    "                                   .agg(avg(\"Bonus / Malus\").alias(\"Bonus / Malus\"), \\\n",
    "                                        avg(\"Rejets CO2 g/km\").alias(\"Rejets CO2 g/km\"), \\\n",
    "                                        avg(\"Cout enerie\").alias(\"Cout enerie\"))"
   ]
  },
  {
   "cell_type": "code",
   "execution_count": 14,
   "id": "1cdc3cca-cedf-48cb-9aae-a116c34bcfaa",
   "metadata": {},
   "outputs": [],
   "source": [
    "# Calcul the average of \"Bonus / Malus\" , \"Rejets CO2 g/km\", \"Cout enerie\" of all lines\n",
    "co2_all_avg_df = co2_valid_df.select(avg(\"Bonus / Malus\").alias(\"Bonus / Malus\"),\\\n",
    "                           avg(\"Rejets CO2 g/km\").alias(\"Rejets CO2 g/km\"),\\\n",
    "                           avg(\"Cout enerie\").alias(\"Cout enerie\"))\n"
   ]
  },
  {
   "cell_type": "code",
   "execution_count": 15,
   "id": "c9bf2a3d-0801-451b-a733-6b6816c9a384",
   "metadata": {},
   "outputs": [
    {
     "name": "stdout",
     "output_type": "stream",
     "text": [
      "Average by 'Marque'\n",
      "+----------+-------------------+------------------+------------------+\n",
      "|    Marque|      Bonus / Malus|   Rejets CO2 g/km|       Cout enerie|\n",
      "+----------+-------------------+------------------+------------------+\n",
      "|Volkswagen|-1714.2857142857142|23.428571428571427|              96.0|\n",
      "|   Peugeot|            -3000.0|15.833333333333334|144.16666666666666|\n",
      "|    Jaguar|            -6000.0|               0.0|             271.0|\n",
      "|       Kia|            -4000.0|10.333333333333334|157.66666666666666|\n",
      "|      Mini|            -3000.0|              21.5|             126.0|\n",
      "|     Volvo|                0.0| 42.45454545454545| 72.72727272727273|\n",
      "|      Audi|            -2400.0|              26.1|             191.6|\n",
      "|  Mercedes| 7790.5864406779665| 187.6271186440678| 749.9796610169492|\n",
      "|   Renault|            -6000.0|               0.0|             206.0|\n",
      "|       BMW|  -631.578947368421| 39.26315789473684| 80.52631578947368|\n",
      "|     Skoda| -666.6666666666666|27.555555555555557| 98.88888888888889|\n",
      "|    Nissan|             5802.4|             160.0|             681.2|\n",
      "+----------+-------------------+------------------+------------------+\n",
      "\n",
      "Average of all 'Marque'\n",
      "+-----------------+-----------------+-----------------+\n",
      "|    Bonus / Malus|  Rejets CO2 g/km|      Cout enerie|\n",
      "+-----------------+-----------------+-----------------+\n",
      "|5746.753886010362|153.3678756476684|615.2538860103627|\n",
      "+-----------------+-----------------+-----------------+\n",
      "\n"
     ]
    },
    {
     "data": {
      "text/plain": [
       "DataFrame[Bonus / Malus: double, Rejets CO2 g/km: double, Cout enerie: double]"
      ]
     },
     "execution_count": 15,
     "metadata": {},
     "output_type": "execute_result"
    }
   ],
   "source": [
    "# Display the result\n",
    "print(\"Average by 'Marque'\")\n",
    "co2_marque_avg_df.show(5)\n",
    "\n",
    "print(\"Average of all 'Marque'\")\n",
    "co2_all_avg_df.show()\n",
    "\n",
    "co2_marque_avg_df.cache()\n",
    "co2_all_avg_df.cache()"
   ]
  },
  {
   "cell_type": "code",
   "execution_count": 16,
   "id": "dc14f21a-0dbd-4d81-91ee-4cf6e0115ad6",
   "metadata": {},
   "outputs": [
    {
     "name": "stdout",
     "output_type": "stream",
     "text": [
      "Marque not in CO2 but in Cataloque: \n",
      "+--------+\n",
      "|  Marque|\n",
      "+--------+\n",
      "|  Lancia|\n",
      "| Hyunda�|\n",
      "|   Dacia|\n",
      "|Daihatsu|\n",
      "|   Honda|\n",
      "|    Fiat|\n",
      "|    Ford|\n",
      "|    Seat|\n",
      "|    Saab|\n",
      "+--------+\n",
      "\n"
     ]
    }
   ],
   "source": [
    "# Selecct \"Marque\" in \"Catatalogue\" but not in \"CO2\"\n",
    "marque_only_catalogue_df = marque_catalogue_df\\\n",
    "                    .join(co2_marque_avg_df, marque_catalogue_df[\"Marque\"] == co2_marque_avg_df[\"Marque\"], \"left_anti\")\n",
    "print(\"Marque not in CO2 but in Cataloque: \")\n",
    "marque_only_catalogue_df.show(5)"
   ]
  },
  {
   "cell_type": "code",
   "execution_count": 17,
   "id": "14091a79-7a25-4dd2-bcf7-21dc9dc6bd7b",
   "metadata": {},
   "outputs": [],
   "source": [
    "# Create CO2 for marque not in CO2 \n",
    "co2_marque_catalogue_avg_df = marque_only_catalogue_df.crossJoin(co2_all_avg_df)"
   ]
  },
  {
   "cell_type": "code",
   "execution_count": 18,
   "id": "da48ee21-58bf-47f2-af4c-4f20408a031a",
   "metadata": {},
   "outputs": [
    {
     "name": "stderr",
     "output_type": "stream",
     "text": [
      "                                                                                \r"
     ]
    },
    {
     "name": "stdout",
     "output_type": "stream",
     "text": [
      "+----------+-------------------+------------------+------------------+\n",
      "|    marque|         bonusmalus|          rejetco2|       coutenergie|\n",
      "+----------+-------------------+------------------+------------------+\n",
      "|Volkswagen|-1714.2857142857142|23.428571428571427|              96.0|\n",
      "|   Peugeot|            -3000.0|15.833333333333334|144.16666666666666|\n",
      "|    Jaguar|            -6000.0|               0.0|             271.0|\n",
      "|       Kia|            -4000.0|10.333333333333334|157.66666666666666|\n",
      "|      Mini|            -3000.0|              21.5|             126.0|\n",
      "|     Volvo|                0.0| 42.45454545454545| 72.72727272727273|\n",
      "|      Audi|            -2400.0|              26.1|             191.6|\n",
      "|  Mercedes| 7790.5864406779665| 187.6271186440678| 749.9796610169492|\n",
      "|   Renault|            -6000.0|               0.0|             206.0|\n",
      "|       BMW|  -631.578947368421| 39.26315789473684| 80.52631578947368|\n",
      "|     Skoda| -666.6666666666666|27.555555555555557| 98.88888888888889|\n",
      "|    Nissan|             5802.4|             160.0|             681.2|\n",
      "|    Lancia|  5746.753886010362| 153.3678756476684| 615.2538860103627|\n",
      "|   Hyunda�|  5746.753886010362| 153.3678756476684| 615.2538860103627|\n",
      "|     Dacia|  5746.753886010362| 153.3678756476684| 615.2538860103627|\n",
      "|  Daihatsu|  5746.753886010362| 153.3678756476684| 615.2538860103627|\n",
      "|     Honda|  5746.753886010362| 153.3678756476684| 615.2538860103627|\n",
      "|      Fiat|  5746.753886010362| 153.3678756476684| 615.2538860103627|\n",
      "|      Ford|  5746.753886010362| 153.3678756476684| 615.2538860103627|\n",
      "|      Seat|  5746.753886010362| 153.3678756476684| 615.2538860103627|\n",
      "+----------+-------------------+------------------+------------------+\n",
      "only showing top 20 rows\n",
      "\n"
     ]
    }
   ],
   "source": [
    "# Union all CO2 line\n",
    "co2_all_marque_catalogue = co2_marque_avg_df.union(co2_marque_catalogue_avg_df)\n",
    "\n",
    "# Rename column\n",
    "co2_all_marque_catalogue = co2_all_marque_catalogue.withColumnRenamed(\"Marque\", \"marque\")\n",
    "co2_all_marque_catalogue = co2_all_marque_catalogue.withColumnRenamed(\"Bonus / Malus\", \"bonusmalus\")\n",
    "co2_all_marque_catalogue = co2_all_marque_catalogue.withColumnRenamed(\"Rejets CO2 g/km\", \"rejetco2\")\n",
    "co2_all_marque_catalogue = co2_all_marque_catalogue.withColumnRenamed(\"Cout enerie\", \"coutenergie\")\n",
    "\n",
    "co2_all_marque_catalogue.show(5)"
   ]
  },
  {
   "cell_type": "code",
   "execution_count": 19,
   "id": "95213e7f-78a2-4b0e-8348-5a587f415e7e",
   "metadata": {},
   "outputs": [
    {
     "name": "stdout",
     "output_type": "stream",
     "text": [
      "+----------+-------------------+------------------+------------------+\n",
      "|    marque|         bonusmalus|          rejetco2|       coutenergie|\n",
      "+----------+-------------------+------------------+------------------+\n",
      "|Volkswagen|-1714.2857142857142|23.428571428571427|              96.0|\n",
      "|   Peugeot|            -3000.0|15.833333333333334|144.16666666666666|\n",
      "|    Jaguar|            -6000.0|               0.0|             271.0|\n",
      "|       Kia|            -4000.0|10.333333333333334|157.66666666666666|\n",
      "|      Mini|            -3000.0|              21.5|             126.0|\n",
      "|     Volvo|                0.0| 42.45454545454545| 72.72727272727273|\n",
      "|      Audi|            -2400.0|              26.1|             191.6|\n",
      "|  Mercedes| 7790.5864406779665| 187.6271186440678| 749.9796610169492|\n",
      "|   Renault|            -6000.0|               0.0|             206.0|\n",
      "|       BMW|  -631.578947368421| 39.26315789473684| 80.52631578947368|\n",
      "|     Skoda| -666.6666666666666|27.555555555555557| 98.88888888888889|\n",
      "|    Nissan|             5802.4|             160.0|             681.2|\n",
      "|    Lancia|  5746.753886010362| 153.3678756476684| 615.2538860103627|\n",
      "|   Hyunda�|  5746.753886010362| 153.3678756476684| 615.2538860103627|\n",
      "|     Dacia|  5746.753886010362| 153.3678756476684| 615.2538860103627|\n",
      "|  Daihatsu|  5746.753886010362| 153.3678756476684| 615.2538860103627|\n",
      "|     Honda|  5746.753886010362| 153.3678756476684| 615.2538860103627|\n",
      "|      Fiat|  5746.753886010362| 153.3678756476684| 615.2538860103627|\n",
      "|      Ford|  5746.753886010362| 153.3678756476684| 615.2538860103627|\n",
      "|      Seat|  5746.753886010362| 153.3678756476684| 615.2538860103627|\n",
      "+----------+-------------------+------------------+------------------+\n",
      "only showing top 20 rows\n",
      "\n"
     ]
    }
   ],
   "source": [
    "co2_all_marque_catalogue_tx = co2_all_marque_catalogue.withColumn(\"bonusmalus\", col(\"bonusmalus\").cast(\"string\")) \\\n",
    "                                                    .withColumn(\"rejetco2\", col(\"rejetco2\").cast(\"string\")) \\\n",
    "                                                      .withColumn(\"coutenergie\", col(\"coutenergie\").cast(\"string\"))\n",
    "\n",
    "\n",
    "co2_all_marque_catalogue_tx.show(5)"
   ]
  },
  {
   "cell_type": "code",
   "execution_count": 22,
   "id": "6d026be5-2b62-4179-89a8-0514f688994e",
   "metadata": {},
   "outputs": [
    {
     "name": "stdout",
     "output_type": "stream",
     "text": [
      "+---+----------+----------------+---+-----------+---+---+-----+-----+-----+\n",
      "|_c0|       _c1|             _c2|_c3|        _c4|_c5|_c6|  _c7|  _c8|  _c9|\n",
      "+---+----------+----------------+---+-----------+---+---+-----+-----+-----+\n",
      "| 77|   Renault|Vel Satis 3.5 V6|245|tr�s longue|  5|  5|blanc|false|49200|\n",
      "| 79|   Renault|Vel Satis 3.5 V6|245|tr�s longue|  5|  5|rouge|false|49200|\n",
      "| 74|   Renault|Vel Satis 3.5 V6|245|tr�s longue|  5|  5|blanc| true|34440|\n",
      "| 75|   Renault|Vel Satis 3.5 V6|245|tr�s longue|  5|  5| gris|false|49200|\n",
      "| 76|   Renault|Vel Satis 3.5 V6|245|tr�s longue|  5|  5| bleu|false|49200|\n",
      "| 78|   Renault|Vel Satis 3.5 V6|245|tr�s longue|  5|  5| noir|false|49200|\n",
      "| 92|   Renault|Vel Satis 3.5 V6|245|tr�s longue|  5|  5|rouge| true|34440|\n",
      "| 70|   Renault|Vel Satis 3.5 V6|245|tr�s longue|  5|  5| gris| true|34440|\n",
      "| 71|   Renault|Vel Satis 3.5 V6|245|tr�s longue|  5|  5| noir| true|34440|\n",
      "| 72|   Renault|Vel Satis 3.5 V6|245|tr�s longue|  5|  5| bleu| true|34440|\n",
      "|128|    Nissan|   Maxima 3.0 V6|200|tr�s longue|  5|  5|rouge|false|30000|\n",
      "|129|    Nissan|   Maxima 3.0 V6|200|tr�s longue|  5|  5|blanc|false|30000|\n",
      "|125|    Nissan|   Maxima 3.0 V6|200|tr�s longue|  5|  5| noir|false|30000|\n",
      "|126|    Nissan|   Maxima 3.0 V6|200|tr�s longue|  5|  5| gris|false|30000|\n",
      "|127|    Nissan|   Maxima 3.0 V6|200|tr�s longue|  5|  5| bleu|false|30000|\n",
      "| 35|Volkswagen|  New Beatle 1.8|110|    moyenne|  5|  5|rouge|false|26630|\n",
      "| 38|Volkswagen|  New Beatle 1.8|110|    moyenne|  5|  5|blanc|false|26630|\n",
      "| 50|     Skoda|   Superb 2.8 V6|193|tr�s longue|  5|  5|rouge|false|31790|\n",
      "| 54|     Skoda|   Superb 2.8 V6|193|tr�s longue|  5|  5|blanc|false|31790|\n",
      "| 11|Volkswagen|  Touran 2.0 FSI|150|     longue|  7|  5|rouge|false|27340|\n",
      "+---+----------+----------------+---+-----------+---+---+-----+-----+-----+\n",
      "only showing top 20 rows\n",
      "\n"
     ]
    }
   ],
   "source": [
    "catalogue_hive_df.show(5)"
   ]
  },
  {
   "cell_type": "code",
   "execution_count": 23,
   "id": "b8d4c134-e540-483b-abfc-f148a7dd3dfd",
   "metadata": {},
   "outputs": [],
   "source": [
    "catalogue_co2_df = catalogue_hive_df.\\\n",
    "        join(co2_all_marque_catalogue_tx, \\\n",
    "             catalogue_hive_df[\"_c1\"] == co2_all_marque_catalogue_tx[\"marque\"], \"inner\")"
   ]
  },
  {
   "cell_type": "code",
   "execution_count": 26,
   "id": "a66eca3b-0916-4053-a587-509793f10819",
   "metadata": {},
   "outputs": [
    {
     "name": "stdout",
     "output_type": "stream",
     "text": [
      "+---+-------+----------------+---+-----------+---+---+-----+-----+-----+-------+----------+--------+-----------+\n",
      "|_c0|    _c1|             _c2|_c3|        _c4|_c5|_c6|  _c7|  _c8|  _c9| marque|bonusmalus|rejetco2|coutenergie|\n",
      "+---+-------+----------------+---+-----------+---+---+-----+-----+-----+-------+----------+--------+-----------+\n",
      "| 77|Renault|Vel Satis 3.5 V6|245|tr�s longue|  5|  5|blanc|false|49200|Renault|   -6000.0|     0.0|      206.0|\n",
      "| 79|Renault|Vel Satis 3.5 V6|245|tr�s longue|  5|  5|rouge|false|49200|Renault|   -6000.0|     0.0|      206.0|\n",
      "| 74|Renault|Vel Satis 3.5 V6|245|tr�s longue|  5|  5|blanc| true|34440|Renault|   -6000.0|     0.0|      206.0|\n",
      "| 75|Renault|Vel Satis 3.5 V6|245|tr�s longue|  5|  5| gris|false|49200|Renault|   -6000.0|     0.0|      206.0|\n",
      "| 76|Renault|Vel Satis 3.5 V6|245|tr�s longue|  5|  5| bleu|false|49200|Renault|   -6000.0|     0.0|      206.0|\n",
      "+---+-------+----------------+---+-----------+---+---+-----+-----+-----+-------+----------+--------+-----------+\n",
      "only showing top 5 rows\n",
      "\n"
     ]
    }
   ],
   "source": [
    "catalogue_co2_df.show(5)"
   ]
  },
  {
   "cell_type": "code",
   "execution_count": 27,
   "id": "8d1e411a-82c7-4f6b-b0dd-0835328f0686",
   "metadata": {},
   "outputs": [],
   "source": [
    "catalogue_co2_df = catalogue_co2_df.drop(\"_c1\")"
   ]
  },
  {
   "cell_type": "code",
   "execution_count": 28,
   "id": "5b5fccc1-dc7c-49c8-8b56-95fa0b3abe6c",
   "metadata": {},
   "outputs": [
    {
     "name": "stdout",
     "output_type": "stream",
     "text": [
      "+---+----------------+---+-----------+---+---+-----+-----+-----+-------+----------+--------+-----------+\n",
      "|_c0|             _c2|_c3|        _c4|_c5|_c6|  _c7|  _c8|  _c9| marque|bonusmalus|rejetco2|coutenergie|\n",
      "+---+----------------+---+-----------+---+---+-----+-----+-----+-------+----------+--------+-----------+\n",
      "| 77|Vel Satis 3.5 V6|245|tr�s longue|  5|  5|blanc|false|49200|Renault|   -6000.0|     0.0|      206.0|\n",
      "| 79|Vel Satis 3.5 V6|245|tr�s longue|  5|  5|rouge|false|49200|Renault|   -6000.0|     0.0|      206.0|\n",
      "| 74|Vel Satis 3.5 V6|245|tr�s longue|  5|  5|blanc| true|34440|Renault|   -6000.0|     0.0|      206.0|\n",
      "| 75|Vel Satis 3.5 V6|245|tr�s longue|  5|  5| gris|false|49200|Renault|   -6000.0|     0.0|      206.0|\n",
      "| 76|Vel Satis 3.5 V6|245|tr�s longue|  5|  5| bleu|false|49200|Renault|   -6000.0|     0.0|      206.0|\n",
      "+---+----------------+---+-----------+---+---+-----+-----+-----+-------+----------+--------+-----------+\n",
      "only showing top 5 rows\n",
      "\n"
     ]
    }
   ],
   "source": [
    "catalogue_co2_df.show(5)"
   ]
  },
  {
   "cell_type": "code",
   "execution_count": 76,
   "id": "dcb8e172-acba-4af0-9c0c-ea64a732ff73",
   "metadata": {},
   "outputs": [],
   "source": [
    "catalogue_co2_df.write.csv(\"/tpt/mapreduce/\", header=False)"
   ]
  },
  {
   "cell_type": "code",
   "execution_count": 77,
   "id": "e5275b54-3ab5-47f6-af4c-5f2ae98b560d",
   "metadata": {},
   "outputs": [],
   "source": [
    "catalogue_hive_df.unpersist()\n",
    "marque_catalogue_df.unpersist()\n",
    "co2_valid_df.unpersist()\n",
    "spark.stop()"
   ]
  }
 ],
 "metadata": {
  "kernelspec": {
   "display_name": "Python 3 (ipykernel)",
   "language": "python",
   "name": "python3"
  },
  "language_info": {
   "codemirror_mode": {
    "name": "ipython",
    "version": 3
   },
   "file_extension": ".py",
   "mimetype": "text/x-python",
   "name": "python",
   "nbconvert_exporter": "python",
   "pygments_lexer": "ipython3",
   "version": "3.9.18"
  }
 },
 "nbformat": 4,
 "nbformat_minor": 5
}
