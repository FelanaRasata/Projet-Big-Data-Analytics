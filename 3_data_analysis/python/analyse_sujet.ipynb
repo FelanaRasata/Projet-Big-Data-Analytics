{
 "cells": [
  {
   "cell_type": "markdown",
   "id": "b4b8df81-47dd-43d5-baee-dfc469655eec",
   "metadata": {},
   "source": [
    "# Chargement des données "
   ]
  },
  {
   "cell_type": "code",
   "execution_count": null,
   "id": "f9da03f6-b231-49b9-ba4d-b8fa66ba8021",
   "metadata": {},
   "outputs": [],
   "source": [
    "from pyhive import hive\n",
    "import pandas as pd\n",
    "from IPython.display import display"
   ]
  },
  {
   "cell_type": "markdown",
   "id": "0a69944e-29af-42cc-bb76-52f86f5f33cf",
   "metadata": {},
   "source": [
    "1. Paramètres de connexion Hive "
   ]
  },
  {
   "cell_type": "code",
   "execution_count": null,
   "id": "724dd2ed-763f-4a8f-a149-69e623e3e776",
   "metadata": {},
   "outputs": [],
   "source": [
    "hive_host = 'localhost'\n",
    "hive_port = 10000\n",
    "hive_username = ' ' \n",
    "hive_password = ' '"
   ]
  },
  {
   "cell_type": "code",
   "execution_count": null,
   "id": "7e6ce6dd-51f0-40db-a53f-04c65d98d875",
   "metadata": {},
   "outputs": [],
   "source": [
    "#conn = None\n",
    "try:\n",
    "    # Établir une connexion avec authentification LDAP\n",
    "    conn = hive.Connection(\n",
    "        host=hive_host,\n",
    "        port=hive_port,\n",
    "        username=hive_username,\n",
    "        password=hive_password,\n",
    "        auth='LDAP'  \n",
    "    )\n",
    "    print(\"Connecté à Hive avec succès\")\n",
    "except Exception as e:\n",
    "    print(f\"Erreur lors de la connexion à Hive: {e}\")"
   ]
  },
  {
   "cell_type": "markdown",
   "id": "fde2c878-65f5-4caf-b228-9157049d435b",
   "metadata": {},
   "source": [
    "2. Chargement de données"
   ]
  },
  {
   "cell_type": "code",
   "execution_count": null,
   "id": "29074759-4e48-403f-b6cb-e8858b1c908f",
   "metadata": {},
   "outputs": [],
   "source": [
    "# Créer un curseur\n",
    "cursor=conn.cursor()"
   ]
  },
  {
   "cell_type": "code",
   "execution_count": null,
   "id": "08afedef-32b7-4336-bdf3-0325ffe95315",
   "metadata": {},
   "outputs": [],
   "source": [
    "def findAll(table) :\n",
    "    # Exécuter une requête pour récupérer les données de la table \"catalogue\"\n",
    "    query = \"SELECT * FROM \" + table\n",
    "    cursor.execute(query)\n",
    "\n",
    "    # Charger les résultats dans un DataFrame Pandas\n",
    "    data = cursor.fetchall()\n",
    "\n",
    "    # Récupérer les noms des colonnes\n",
    "    columns = [desc[0] for desc in cursor.description] \n",
    "    df = pd.DataFrame(data, columns=columns)\n",
    "    print(\"Select all \",table)\n",
    "\n",
    "    display(df.head())\n",
    "    \n",
    "    return df"
   ]
  },
  {
   "cell_type": "markdown",
   "id": "429d8f89-4983-4169-932c-ecd304342a6e",
   "metadata": {},
   "source": [
    "    - Catalogue"
   ]
  },
  {
   "cell_type": "code",
   "execution_count": null,
   "id": "62caaaaa-bc21-47cb-a3e2-e4e337a9550d",
   "metadata": {},
   "outputs": [],
   "source": [
    "df_catalogue = findAll(\"catalogue_co2_view\")"
   ]
  },
  {
   "cell_type": "markdown",
   "id": "5928def1-6328-4e4b-97fe-dd3ac12d1798",
   "metadata": {},
   "source": [
    "    - Immatriculation"
   ]
  },
  {
   "cell_type": "code",
   "execution_count": null,
   "id": "20d53aad-5e03-4163-84ff-955891ada3d6",
   "metadata": {},
   "outputs": [],
   "source": [
    "df_immatriculation = findAll(\"immatriculation_co2_view\")"
   ]
  },
  {
   "cell_type": "markdown",
   "id": "9ca59ad1-2a68-4be1-a7bb-0c57f62f168d",
   "metadata": {},
   "source": [
    "    - Marketing "
   ]
  },
  {
   "cell_type": "code",
   "execution_count": null,
   "id": "bce5f12a-edaf-45b7-892d-6cb893e3ee7e",
   "metadata": {},
   "outputs": [],
   "source": [
    "df_marketing = findAll(\"marketing_view\")"
   ]
  },
  {
   "cell_type": "markdown",
   "id": "33e7e3b8-c722-4f33-b4be-74a799e49f41",
   "metadata": {},
   "source": [
    "    - Client"
   ]
  },
  {
   "cell_type": "code",
   "execution_count": null,
   "id": "b6361f97-2172-4777-bae8-fb8926d4b890",
   "metadata": {},
   "outputs": [],
   "source": [
    "df_client = findAll(\"client_view\")"
   ]
  },
  {
   "cell_type": "markdown",
   "id": "a8d15c18-b7cf-4814-a36f-a7505a535726",
   "metadata": {},
   "source": [
    "# 1. ANALYSE EXPLORATOIRE DES DONNEES"
   ]
  },
  {
   "cell_type": "markdown",
   "id": "124f26c9-6890-4508-b7ac-91b3f566241e",
   "metadata": {},
   "source": [
    "## Statistiques descriptives / vérification des valeurs"
   ]
  },
  {
   "cell_type": "code",
   "execution_count": null,
   "id": "bfba697b-7c9a-4bd0-b943-10af5a529248",
   "metadata": {},
   "outputs": [],
   "source": [
    "def descriptionDataframe(table, df) :\n",
    "    # Affichage des statistiques descriptives\n",
    "    print(\"Affichage des statistiques descriptives de \", table)\n",
    "    display(df.describe())\n",
    "    \n",
    "    # Affichage des types de données et des valeurs manquantes\n",
    "    print(\"Affichage des types de données et des valeurs manquantes  de \", table)\n",
    "    display(df.info())\n",
    "\n",
    "    # Vérification des valeurs manquantes\n",
    "    print(\"Vérification des valeurs manquantes  de \", table)\n",
    "    display(df.isnull().sum())\n",
    "    \n",
    "    # Vérification des doublons\n",
    "    print(\"Vérification des doublons  de \", table)\n",
    "    duplicates = df.duplicated()\n",
    "    print(f\"Nombre de doublons : {duplicates.sum()}\")"
   ]
  },
  {
   "cell_type": "code",
   "execution_count": null,
   "id": "b08be5ae-b902-489a-b51e-971d159cf506",
   "metadata": {},
   "outputs": [],
   "source": [
    "descriptionDataframe(\"Catalogue\",df_catalogue)\n",
    "#dfCatalogue.isnull().sum()"
   ]
  },
  {
   "cell_type": "code",
   "execution_count": null,
   "id": "c42f366f-c6c8-4ef2-865d-4a6a18b01c82",
   "metadata": {},
   "outputs": [],
   "source": [
    "descriptionDataframe(\"Immatriculation\",df_immatriculation)"
   ]
  },
  {
   "cell_type": "code",
   "execution_count": null,
   "id": "8e099f03-7fcd-41f3-8862-4c491c3ab453",
   "metadata": {},
   "outputs": [],
   "source": [
    "# Suppression des doublons\n",
    "df_immatriculation.drop_duplicates(inplace=True)\n",
    "print(f\"Nombre de doublons après suppression : {df_immatriculation.duplicated().sum()}\")"
   ]
  },
  {
   "cell_type": "code",
   "execution_count": null,
   "id": "c136e32c-8e7a-4bf7-a156-3d3483302e43",
   "metadata": {},
   "outputs": [],
   "source": [
    "descriptionDataframe(\"Client\",df_client)"
   ]
  },
  {
   "cell_type": "code",
   "execution_count": null,
   "id": "06c0e0c1-96c4-4686-8b38-c732b453f656",
   "metadata": {},
   "outputs": [],
   "source": [
    "descriptionDataframe(\"Marketing\",df_marketing)"
   ]
  },
  {
   "cell_type": "markdown",
   "id": "16a6131f-11cb-4a6e-baa5-3f8820b8ce27",
   "metadata": {},
   "source": [
    "## Matrice de corrélation"
   ]
  },
  {
   "cell_type": "code",
   "execution_count": null,
   "id": "6a3fbbea-3d54-4ab8-b925-67c8a2e77c1a",
   "metadata": {},
   "outputs": [],
   "source": [
    "import seaborn as sns\n",
    "import matplotlib.pyplot as plt\n",
    "import matplotlib.pyplot as plt\n",
    "import seaborn as sns"
   ]
  },
  {
   "cell_type": "code",
   "execution_count": null,
   "id": "625b23bd-0190-491d-938c-ca7efd49d6a2",
   "metadata": {},
   "outputs": [],
   "source": [
    "# Exclure les colonnes non numériques spécifiées\n",
    "df = df_catalogue.copy()\n",
    "\n",
    "# Calcul de la matrice de corrélation\n",
    "corr_matrix = df[[\n",
    "    'catalogue_co2_view.puissance', \n",
    "    'catalogue_co2_view.nbplaces', \n",
    "    'catalogue_co2_view.nbportes', \n",
    "    'catalogue_co2_view.prix', \n",
    "    'catalogue_co2_view.longueur',\n",
    "    'catalogue_co2_view.bonusmalus',\n",
    "    'catalogue_co2_view.rejetco2',\n",
    "    'catalogue_co2_view.coutenergie'\n",
    "]].corr()\n",
    "display(corr_matrix)\n",
    "\n",
    "# Visualisation de la matrice de corrélation\n",
    "plt.figure(figsize=(12, 8))\n",
    "sns.heatmap(corr_matrix, annot=True, cmap='coolwarm', linewidths=0.5)\n",
    "plt.title('Heatmap des corrélations')\n",
    "plt.show()\n"
   ]
  },
  {
   "cell_type": "code",
   "execution_count": null,
   "id": "d1416630-052f-45b8-98df-66faed0c4406",
   "metadata": {
    "scrolled": true
   },
   "outputs": [],
   "source": [
    "# Scatter plot of puissance vs prix\n",
    "plt.figure(figsize=(15, 10))\n",
    "plt.subplot(2, 3, 1)\n",
    "sns.scatterplot(data=data, x='catalogue_co2_view.puissance', y='catalogue_co2_view.prix')\n",
    "plt.title('Puissance vs Prix')\n",
    "plt.xlabel('Puissance')\n",
    "plt.ylabel('Prix')\n",
    "\n",
    "# Scatter plot of longueur vs prix\n",
    "plt.subplot(2, 3, 2)\n",
    "sns.scatterplot(data=data, x='catalogue_co2_view.longueur', y='catalogue_co2_view.prix')\n",
    "plt.title('Longueur vs Prix')\n",
    "plt.xlabel('Longueur')\n",
    "plt.ylabel('Prix')\n",
    "\n",
    "# Scatter plot of longueur vs puissance\n",
    "plt.subplot(2, 3, 3)\n",
    "sns.scatterplot(data=data, x='catalogue_co2_view.longueur', y='catalogue_co2_view.puissance')\n",
    "plt.title('Longueur vs Puissance')\n",
    "plt.xlabel('Longueur')\n",
    "plt.ylabel('Puissance')\n",
    "\n",
    "# Histogram of rejetco2\n",
    "plt.subplot(2, 3, 4)\n",
    "sns.histplot(data=data, x='catalogue_co2_view.rejetco2', bins=20, kde=True)\n",
    "plt.title('Distribution of Rejet CO2')\n",
    "plt.xlabel('Rejet CO2')\n",
    "plt.ylabel('Frequency')\n",
    "\n",
    "# Histogram of nbportes\n",
    "plt.subplot(2, 3, 5)\n",
    "sns.histplot(data=data, x='catalogue_co2_view.nbportes', bins=10, kde=True)\n",
    "plt.title('Distribution of Nbportes')\n",
    "plt.xlabel('Nbportes')\n",
    "plt.ylabel('Frequency')\n",
    "\n",
    "plt.tight_layout()\n",
    "plt.show()"
   ]
  },
  {
   "cell_type": "markdown",
   "id": "9dcf87bf-aa79-43ec-bcb8-3091b0da9683",
   "metadata": {},
   "source": [
    "### Conclusion:\n",
    "\n",
    "1. Variables importantes:\n",
    "\n",
    "   - La puissance, le prix et la longueur sont des variables importantes car elles montrent de fortes corrélations avec plusieurs autres variables. Elles peuvent être utilisées pour distinguer les catégories de véhicules.\n",
    "\n",
    "   - Le nombre de places, le rejet CO2, le bonus et le cout d'énergie montrent peu de corrélations significatives avec les autres variables,mais ils ne doivent pas être exclu sans une analyse plus approfondie de son impact potentiel sur la catégorisation.\n",
    "\n",
    "   - Le rejet CO2, le bonus et le cout d'énergie sont des variables très correlés cependant leur corrélations avec avec les autres variables ne doivent pas pas être exclu alors on va considerer un seul de ces variables.\n",
    "\n",
    "3. Variables moins pertinentes: nbportes semble avoir une distribution homogène et pourrait être moins informative pour le clustering.\n",
    "\n",
    "4. Variables à considérer pour le Clustering: puissance, nbplaces, prix, longueur, coutenergie."
   ]
  },
  {
   "cell_type": "markdown",
   "id": "6a54cdf3-96f8-4a56-8b68-35b95bb61588",
   "metadata": {},
   "source": [
    "# 2. Categorisation des véhicules"
   ]
  },
  {
   "cell_type": "code",
   "execution_count": null,
   "id": "ee02507d-355d-458f-be2a-0ed8f694f5c1",
   "metadata": {},
   "outputs": [],
   "source": [
    "col_predictive = [\n",
    "    'catalogue_co2_view.puissance', \n",
    "    'catalogue_co2_view.nbportes', \n",
    "    'catalogue_co2_view.prix', \n",
    "    'catalogue_co2_view.longueur',\n",
    "    'catalogue_co2_view.rejetco2'\n",
    "]"
   ]
  },
  {
   "cell_type": "code",
   "execution_count": null,
   "id": "8ced079a-a2c6-4d57-adec-8842f55da5bb",
   "metadata": {},
   "outputs": [],
   "source": [
    "# Sélectionner les caractéristiques pertinentes\n",
    "df_catalogue_used = df_catalogue[col_predictive]\n",
    "df_catalogue_used.head(5)"
   ]
  },
  {
   "cell_type": "code",
   "execution_count": null,
   "id": "646834a0-af96-4f48-a392-e6de3636d8e4",
   "metadata": {},
   "outputs": [],
   "source": [
    "from sklearn.preprocessing import StandardScaler\n",
    "\n",
    "# Normalisation des données\n",
    "scaler = StandardScaler()\n",
    "scaled_df_catalogue_used = scaler.fit_transform(df_catalogue_used)\n",
    "print(\"done\")"
   ]
  },
  {
   "cell_type": "code",
   "execution_count": null,
   "id": "0b492340-e8f3-4c1b-b35b-1d75b5ff5e00",
   "metadata": {},
   "outputs": [],
   "source": [
    "#remettre en dataframe le tableau numpy des données catalogué mise à l'echelle pour vérifier\n",
    "scaled_df_catalogue_used_to_df = pd.DataFrame(scaled_df_catalogue_used, columns=df_catalogue_used.columns)\n",
    "print(\"done\")\n",
    "\n",
    "display(scaled_df_catalogue_used_to_df.head())"
   ]
  },
  {
   "cell_type": "code",
   "execution_count": null,
   "id": "80b6b6d6-95fb-44b8-a01e-92769520726e",
   "metadata": {},
   "outputs": [],
   "source": [
    "from sklearn.cluster import KMeans\n",
    "\n",
    "# Utiliser la méthode du coude pour trouver le nombre optimal de clusters\n",
    "wcss = []\n",
    "for i in range(1, 11):\n",
    "    kmeans = KMeans(n_clusters=i, random_state=42)\n",
    "    kmeans.fit(scaled_df_catalogue_used)\n",
    "    wcss.append(kmeans.inertia_)\n",
    "\n",
    "plt.plot(range(1, 11), wcss)\n",
    "plt.title('Méthode du coude')\n",
    "plt.xlabel('Nombre de clusters')\n",
    "plt.ylabel('WCSS')\n",
    "plt.show()\n"
   ]
  },
  {
   "cell_type": "markdown",
   "id": "1105cb5e-4ff5-4a8f-ac12-40fb9bf3ea2c",
   "metadata": {},
   "source": [
    "D'après la methode de coude, on voit ici que le nombre optimale de cluster est aux alentours de 4"
   ]
  },
  {
   "cell_type": "code",
   "execution_count": null,
   "id": "fd3b0bd0-abcd-4c4e-80b8-3f13b9901517",
   "metadata": {},
   "outputs": [],
   "source": [
    "# Application de k-means avec le nombre de clusters choisi\n",
    "kmeans = KMeans(n_clusters=4, random_state=42)\n",
    "df_catalogue['catalogue_co2_view.cluster'] = kmeans.fit_predict(scaled_df_catalogue_used)\n",
    "print(\"done\")"
   ]
  },
  {
   "cell_type": "code",
   "execution_count": null,
   "id": "b93661d4-7771-4e67-aad5-183d57d5044b",
   "metadata": {},
   "outputs": [],
   "source": [
    "# Calculer les caractéristiques moyennes de chaque cluster\n",
    "cluster_centers = scaler.inverse_transform(kmeans.cluster_centers_)\n",
    "cluster_labels = df_catalogue['catalogue_co2_view.cluster'].unique()\n",
    "cluster_summary = pd.DataFrame(cluster_centers, columns=df_catalogue_used.columns, index=cluster_labels)\n",
    "\n",
    "display(cluster_summary)"
   ]
  },
  {
   "cell_type": "code",
   "execution_count": null,
   "id": "b734711d-b735-463f-973b-a17118e7f96d",
   "metadata": {},
   "outputs": [],
   "source": [
    "cluster_labels = {\n",
    "    0: 'Citadine',\n",
    "    1: 'Luxe',\n",
    "    2: 'Compacte',\n",
    "    3: 'Familiale'\n",
    "}\n",
    "df_catalogue['catalogue_co2_view.categorie'] = df_catalogue['catalogue_co2_view.cluster'].map(cluster_labels)\n",
    "\n",
    "# Afficher le catalogue avec les catégories assignées\n",
    "df_catalogue.head()"
   ]
  },
  {
   "cell_type": "markdown",
   "id": "78106920-ca49-4e38-9159-14ecddf2d8cf",
   "metadata": {},
   "source": [
    "# 3. Application des catégories de véhicules définies aux données des Immatriculations"
   ]
  },
  {
   "cell_type": "code",
   "execution_count": null,
   "id": "faf12d11-dc05-4788-83e7-5654029ab964",
   "metadata": {},
   "outputs": [],
   "source": [
    "df_immatriculation.head()"
   ]
  },
  {
   "cell_type": "code",
   "execution_count": null,
   "id": "51e7bbee-c877-43bc-b4e6-d40a566fd44a",
   "metadata": {},
   "outputs": [],
   "source": [
    "col_predictive_immatriculation = [\n",
    "    'immatriculation_co2_view.puissance', \n",
    "    'immatriculation_co2_view.longueur', \n",
    "    'immatriculation_co2_view.nbportes', \n",
    "    'immatriculation_co2_view.prix',\n",
    "    'immatriculation_co2_view.rejetco2'\n",
    "]"
   ]
  },
  {
   "cell_type": "code",
   "execution_count": null,
   "id": "7d222466-8127-4a05-b92e-69fce98e0dd4",
   "metadata": {},
   "outputs": [],
   "source": [
    "# Sélectionner les caractéristiques pertinentes pour les immatriculations\n",
    "df_immatriculation_used = df_immatriculation[col_predictive_immatriculation]\n",
    "\n",
    "df_immatriculation_used.head()"
   ]
  },
  {
   "cell_type": "code",
   "execution_count": null,
   "id": "dd395127-bbf9-4c91-94be-27df4fa6cc64",
   "metadata": {},
   "outputs": [],
   "source": [
    "# Normalisation des données\n",
    "scalerImma = StandardScaler()\n",
    "scaled_df_immatriculation_used = scalerImma.fit_transform(df_immatriculation_used)\n",
    "print(\"done scaling\")"
   ]
  },
  {
   "cell_type": "code",
   "execution_count": null,
   "id": "577e57b3-76af-44ea-8edb-1c7adb25f464",
   "metadata": {},
   "outputs": [],
   "source": [
    "# Utiliser le modèle de clustering pour prédire les clusters des données d'immatriculation\n",
    "df_immatriculation['immatriculation_co2_view.cluster'] = kmeans.predict(scaled_df_immatriculation_used)\n",
    "\n",
    "# Mapper les clusters prédits aux catégories de véhicules correspondantes\n",
    "cluster_labels = {\n",
    "    0: 'Citadine',\n",
    "    1: 'Luxe',\n",
    "    2: 'Compacte',\n",
    "    3: 'Familiale'\n",
    "}\n",
    "df_immatriculation['immatriculation_co2_view.categorie'] = df_immatriculation['immatriculation_co2_view.cluster'].map(cluster_labels)\n",
    "print(\"done\")\n",
    "\n",
    "# Afficher le DataFrame d'immatriculation avec les catégories assignées\n",
    "df_immatriculation.head()\n"
   ]
  },
  {
   "cell_type": "markdown",
   "id": "c0cce239-c4a2-40c6-96ec-70c2644b63e6",
   "metadata": {},
   "source": [
    "# 4. Fusion des données Clients et Immatriculations"
   ]
  },
  {
   "cell_type": "code",
   "execution_count": null,
   "id": "20755135-9fbd-420c-acbd-047d30316256",
   "metadata": {},
   "outputs": [],
   "source": [
    "# Fusionner les deux DataFrames sur la colonne 'immatriculation'\n",
    "df_fusion = pd.merge(df_client, df_immatriculation, how='inner', left_on='client_view.immatriculation', right_on='immatriculation_co2_view.immatriculation')\n",
    "print(\"Fusion done\")\n",
    "\n",
    "# Afficher les premières lignes du DataFrame fusionné\n",
    "df_fusion.head()"
   ]
  },
  {
   "cell_type": "code",
   "execution_count": null,
   "id": "08163c9e-073c-424d-a3be-033ab8a106c5",
   "metadata": {},
   "outputs": [],
   "source": [
    "columns_to_drop = [\"immatriculation_co2_view.immatriculation\", \"immatriculation_co2_view.marque\", \"immatriculation_co2_view.nom\",\n",
    "                   \"immatriculation_co2_view.puissance\", \"immatriculation_co2_view.longueur\", \"immatriculation_co2_view.nbplaces\",\n",
    "                   \"immatriculation_co2_view.nbportes\", \"immatriculation_co2_view.couleur\", \"immatriculation_co2_view.occasion\",\n",
    "                   \"immatriculation_co2_view.prix\", \"immatriculation_co2_view.cluster\", \"immatriculation_co2_view.rejetco2\",\n",
    "                   \"immatriculation_co2_view.bonusmalus\", \"immatriculation_co2_view.coutenergie\", \"client_view.immatriculation\"]\n",
    "\n",
    "df_fusion_new = df_fusion.drop(columns=columns_to_drop)"
   ]
  },
  {
   "cell_type": "code",
   "execution_count": null,
   "id": "b47be9a3-ad8c-4c01-a97e-527f7e816f3f",
   "metadata": {},
   "outputs": [],
   "source": [
    "df_fusion_new.head()"
   ]
  },
  {
   "cell_type": "markdown",
   "id": "0d983973-960e-4982-a7ac-7fea0788f404",
   "metadata": {},
   "source": [
    "### Mettre les données de fusion entre immatriculations et clients dans hdfs"
   ]
  },
  {
   "cell_type": "code",
   "execution_count": null,
   "id": "15a33334-dae3-42d0-b445-c6a18d2da5b7",
   "metadata": {},
   "outputs": [],
   "source": [
    "df_fusion_new.to_csv('/vagrant/tpa_groupe_14/data/fusion.csv', index=False, encoding='utf-8')"
   ]
  },
  {
   "cell_type": "code",
   "execution_count": null,
   "id": "c9be84dc-d50a-4b07-9b67-732763c97a47",
   "metadata": {},
   "outputs": [],
   "source": [
    "!hadoop fs -mkdir -p /tpa_groupe_14/data/fusion"
   ]
  },
  {
   "cell_type": "code",
   "execution_count": null,
   "id": "9e119768-a433-4d6b-b413-c8848396bece",
   "metadata": {},
   "outputs": [],
   "source": [
    "!hadoop fs -put -f /vagrant/tpa_groupe_14/data/fusion.csv /tpa_groupe_14/data/fusion"
   ]
  },
  {
   "cell_type": "code",
   "execution_count": null,
   "id": "c387ea34-530e-4241-b42f-1a5884937c69",
   "metadata": {},
   "outputs": [],
   "source": [
    "!hadoop fs -ls /tpa_groupe_14/data/fusion"
   ]
  }
 ],
 "metadata": {
  "kernelspec": {
   "display_name": "Python 3 (ipykernel)",
   "language": "python",
   "name": "python3"
  },
  "language_info": {
   "codemirror_mode": {
    "name": "ipython",
    "version": 3
   },
   "file_extension": ".py",
   "mimetype": "text/x-python",
   "name": "python",
   "nbconvert_exporter": "python",
   "pygments_lexer": "ipython3",
   "version": "3.9.18"
  }
 },
 "nbformat": 4,
 "nbformat_minor": 5
}
